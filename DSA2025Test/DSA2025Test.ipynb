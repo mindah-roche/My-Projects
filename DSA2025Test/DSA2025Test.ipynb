{
 "cells": [
  {
   "cell_type": "code",
   "execution_count": 1,
   "metadata": {
    "deletable": false,
    "editable": false
   },
   "outputs": [],
   "source": [
    "\n",
    "# Initialize Otter\n",
    "import otter\n",
    "grader = otter.Notebook(\"DSA2025Test.ipynb\")"
   ]
  },
  {
   "cell_type": "code",
   "execution_count": 3,
   "metadata": {},
   "outputs": [
    {
     "name": "stdout",
     "output_type": "stream",
     "text": [
      "Collecting otter-grader\n",
      "  Downloading otter_grader-6.1.1-py3-none-any.whl.metadata (3.9 kB)\n",
      "Collecting click<9.0.0,>=8.1.7 (from otter-grader)\n",
      "  Downloading click-8.1.8-py3-none-any.whl.metadata (2.3 kB)\n",
      "Collecting dill>=0.3.0 (from otter-grader)\n",
      "  Downloading dill-0.3.9-py3-none-any.whl.metadata (10 kB)\n",
      "Collecting fica>=0.4.1 (from otter-grader)\n",
      "  Downloading fica-0.4.1-py3-none-any.whl.metadata (2.0 kB)\n",
      "Collecting ipylab<2.0.0,>=1.0.0 (from otter-grader)\n",
      "  Downloading ipylab-1.0.0-py3-none-any.whl.metadata (6.7 kB)\n",
      "Requirement already satisfied: ipython in c:\\users\\roche\\appdata\\roaming\\python\\python313\\site-packages (from otter-grader) (9.0.2)\n",
      "Requirement already satisfied: ipywidgets<9.0.0,>=8.1.5 in c:\\users\\roche\\appdata\\local\\programs\\python\\python313\\lib\\site-packages (from otter-grader) (8.1.5)\n",
      "Requirement already satisfied: jinja2<4.0,>=3.1 in c:\\users\\roche\\appdata\\local\\programs\\python\\python313\\lib\\site-packages (from otter-grader) (3.1.6)\n",
      "Collecting jupytext<2.0.0,>=1.16.4 (from otter-grader)\n",
      "  Downloading jupytext-1.16.7-py3-none-any.whl.metadata (13 kB)\n",
      "Requirement already satisfied: nbconvert>=6.0.0 in c:\\users\\roche\\appdata\\local\\programs\\python\\python313\\lib\\site-packages (from nbconvert[webpdf]>=6.0.0; sys_platform != \"emscripten\" and sys_platform != \"wasi\"->otter-grader) (7.16.6)\n",
      "Requirement already satisfied: nbformat>=5.0.0 in c:\\users\\roche\\appdata\\local\\programs\\python\\python313\\lib\\site-packages (from otter-grader) (5.10.4)\n",
      "Collecting pandas>=2.0.0 (from otter-grader)\n",
      "  Downloading pandas-2.2.3-cp313-cp313-win_amd64.whl.metadata (19 kB)\n",
      "Collecting python-on-whales<1.0.0,>=0.72.0 (from otter-grader)\n",
      "  Downloading python_on_whales-0.75.1-py3-none-any.whl.metadata (18 kB)\n",
      "Requirement already satisfied: pyyaml<7,>=6 in c:\\users\\roche\\appdata\\local\\programs\\python\\python313\\lib\\site-packages (from otter-grader) (6.0.2)\n",
      "Requirement already satisfied: requests<3.0,>=2.31 in c:\\users\\roche\\appdata\\local\\programs\\python\\python313\\lib\\site-packages (from otter-grader) (2.32.3)\n",
      "Collecting wrapt<2.0.0,>=1.16.0 (from otter-grader)\n",
      "  Downloading wrapt-1.17.2-cp313-cp313-win_amd64.whl.metadata (6.5 kB)\n",
      "Requirement already satisfied: colorama in c:\\users\\roche\\appdata\\roaming\\python\\python313\\site-packages (from click<9.0.0,>=8.1.7->otter-grader) (0.4.6)\n",
      "Collecting docutils (from fica>=0.4.1->otter-grader)\n",
      "  Downloading docutils-0.21.2-py3-none-any.whl.metadata (2.8 kB)\n",
      "Collecting sphinx (from fica>=0.4.1->otter-grader)\n",
      "  Downloading sphinx-8.2.3-py3-none-any.whl.metadata (7.0 kB)\n",
      "Requirement already satisfied: comm>=0.1.3 in c:\\users\\roche\\appdata\\roaming\\python\\python313\\site-packages (from ipywidgets<9.0.0,>=8.1.5->otter-grader) (0.2.2)\n",
      "Requirement already satisfied: traitlets>=4.3.1 in c:\\users\\roche\\appdata\\roaming\\python\\python313\\site-packages (from ipywidgets<9.0.0,>=8.1.5->otter-grader) (5.14.3)\n",
      "Requirement already satisfied: widgetsnbextension~=4.0.12 in c:\\users\\roche\\appdata\\local\\programs\\python\\python313\\lib\\site-packages (from ipywidgets<9.0.0,>=8.1.5->otter-grader) (4.0.13)\n",
      "Requirement already satisfied: jupyterlab-widgets~=3.0.12 in c:\\users\\roche\\appdata\\local\\programs\\python\\python313\\lib\\site-packages (from ipywidgets<9.0.0,>=8.1.5->otter-grader) (3.0.13)\n",
      "Requirement already satisfied: decorator in c:\\users\\roche\\appdata\\roaming\\python\\python313\\site-packages (from ipython->otter-grader) (5.2.1)\n",
      "Requirement already satisfied: ipython-pygments-lexers in c:\\users\\roche\\appdata\\roaming\\python\\python313\\site-packages (from ipython->otter-grader) (1.1.1)\n",
      "Requirement already satisfied: jedi>=0.16 in c:\\users\\roche\\appdata\\roaming\\python\\python313\\site-packages (from ipython->otter-grader) (0.19.2)\n",
      "Requirement already satisfied: matplotlib-inline in c:\\users\\roche\\appdata\\roaming\\python\\python313\\site-packages (from ipython->otter-grader) (0.1.7)\n",
      "Requirement already satisfied: prompt_toolkit<3.1.0,>=3.0.41 in c:\\users\\roche\\appdata\\roaming\\python\\python313\\site-packages (from ipython->otter-grader) (3.0.50)\n",
      "Requirement already satisfied: pygments>=2.4.0 in c:\\users\\roche\\appdata\\roaming\\python\\python313\\site-packages (from ipython->otter-grader) (2.19.1)\n",
      "Requirement already satisfied: stack_data in c:\\users\\roche\\appdata\\roaming\\python\\python313\\site-packages (from ipython->otter-grader) (0.6.3)\n",
      "Requirement already satisfied: MarkupSafe>=2.0 in c:\\users\\roche\\appdata\\local\\programs\\python\\python313\\lib\\site-packages (from jinja2<4.0,>=3.1->otter-grader) (3.0.2)\n",
      "Collecting markdown-it-py>=1.0 (from jupytext<2.0.0,>=1.16.4->otter-grader)\n",
      "  Downloading markdown_it_py-3.0.0-py3-none-any.whl.metadata (6.9 kB)\n",
      "Collecting mdit-py-plugins (from jupytext<2.0.0,>=1.16.4->otter-grader)\n",
      "  Downloading mdit_py_plugins-0.4.2-py3-none-any.whl.metadata (2.8 kB)\n",
      "Requirement already satisfied: packaging in c:\\users\\roche\\appdata\\roaming\\python\\python313\\site-packages (from jupytext<2.0.0,>=1.16.4->otter-grader) (24.2)\n",
      "Requirement already satisfied: beautifulsoup4 in c:\\users\\roche\\appdata\\local\\programs\\python\\python313\\lib\\site-packages (from nbconvert>=6.0.0->nbconvert[webpdf]>=6.0.0; sys_platform != \"emscripten\" and sys_platform != \"wasi\"->otter-grader) (4.13.3)\n",
      "Requirement already satisfied: bleach!=5.0.0 in c:\\users\\roche\\appdata\\local\\programs\\python\\python313\\lib\\site-packages (from bleach[css]!=5.0.0->nbconvert>=6.0.0->nbconvert[webpdf]>=6.0.0; sys_platform != \"emscripten\" and sys_platform != \"wasi\"->otter-grader) (6.2.0)\n",
      "Requirement already satisfied: defusedxml in c:\\users\\roche\\appdata\\local\\programs\\python\\python313\\lib\\site-packages (from nbconvert>=6.0.0->nbconvert[webpdf]>=6.0.0; sys_platform != \"emscripten\" and sys_platform != \"wasi\"->otter-grader) (0.7.1)\n",
      "Requirement already satisfied: jupyter-core>=4.7 in c:\\users\\roche\\appdata\\roaming\\python\\python313\\site-packages (from nbconvert>=6.0.0->nbconvert[webpdf]>=6.0.0; sys_platform != \"emscripten\" and sys_platform != \"wasi\"->otter-grader) (5.7.2)\n",
      "Requirement already satisfied: jupyterlab-pygments in c:\\users\\roche\\appdata\\local\\programs\\python\\python313\\lib\\site-packages (from nbconvert>=6.0.0->nbconvert[webpdf]>=6.0.0; sys_platform != \"emscripten\" and sys_platform != \"wasi\"->otter-grader) (0.3.0)\n",
      "Requirement already satisfied: mistune<4,>=2.0.3 in c:\\users\\roche\\appdata\\local\\programs\\python\\python313\\lib\\site-packages (from nbconvert>=6.0.0->nbconvert[webpdf]>=6.0.0; sys_platform != \"emscripten\" and sys_platform != \"wasi\"->otter-grader) (3.1.2)\n",
      "Requirement already satisfied: nbclient>=0.5.0 in c:\\users\\roche\\appdata\\local\\programs\\python\\python313\\lib\\site-packages (from nbconvert>=6.0.0->nbconvert[webpdf]>=6.0.0; sys_platform != \"emscripten\" and sys_platform != \"wasi\"->otter-grader) (0.10.2)\n",
      "Requirement already satisfied: pandocfilters>=1.4.1 in c:\\users\\roche\\appdata\\local\\programs\\python\\python313\\lib\\site-packages (from nbconvert>=6.0.0->nbconvert[webpdf]>=6.0.0; sys_platform != \"emscripten\" and sys_platform != \"wasi\"->otter-grader) (1.5.1)\n",
      "Collecting playwright (from nbconvert[webpdf]>=6.0.0; sys_platform != \"emscripten\" and sys_platform != \"wasi\"->otter-grader)\n",
      "  Downloading playwright-1.51.0-py3-none-win_amd64.whl.metadata (3.5 kB)\n",
      "Requirement already satisfied: fastjsonschema>=2.15 in c:\\users\\roche\\appdata\\local\\programs\\python\\python313\\lib\\site-packages (from nbformat>=5.0.0->otter-grader) (2.21.1)\n",
      "Requirement already satisfied: jsonschema>=2.6 in c:\\users\\roche\\appdata\\local\\programs\\python\\python313\\lib\\site-packages (from nbformat>=5.0.0->otter-grader) (4.23.0)\n",
      "Collecting numpy>=1.26.0 (from pandas>=2.0.0->otter-grader)\n",
      "  Downloading numpy-2.2.4-cp313-cp313-win_amd64.whl.metadata (60 kB)\n",
      "Requirement already satisfied: python-dateutil>=2.8.2 in c:\\users\\roche\\appdata\\roaming\\python\\python313\\site-packages (from pandas>=2.0.0->otter-grader) (2.9.0.post0)\n",
      "Collecting pytz>=2020.1 (from pandas>=2.0.0->otter-grader)\n",
      "  Downloading pytz-2025.1-py2.py3-none-any.whl.metadata (22 kB)\n",
      "Collecting tzdata>=2022.7 (from pandas>=2.0.0->otter-grader)\n",
      "  Using cached tzdata-2025.1-py2.py3-none-any.whl.metadata (1.4 kB)\n",
      "Collecting pydantic!=2.0.*,<3,>=2 (from python-on-whales<1.0.0,>=0.72.0->otter-grader)\n",
      "  Downloading pydantic-2.10.6-py3-none-any.whl.metadata (30 kB)\n",
      "Requirement already satisfied: typing-extensions in c:\\users\\roche\\appdata\\local\\programs\\python\\python313\\lib\\site-packages (from python-on-whales<1.0.0,>=0.72.0->otter-grader) (4.12.2)\n",
      "Requirement already satisfied: charset-normalizer<4,>=2 in c:\\users\\roche\\appdata\\local\\programs\\python\\python313\\lib\\site-packages (from requests<3.0,>=2.31->otter-grader) (3.4.1)\n",
      "Requirement already satisfied: idna<4,>=2.5 in c:\\users\\roche\\appdata\\local\\programs\\python\\python313\\lib\\site-packages (from requests<3.0,>=2.31->otter-grader) (3.10)\n",
      "Requirement already satisfied: urllib3<3,>=1.21.1 in c:\\users\\roche\\appdata\\local\\programs\\python\\python313\\lib\\site-packages (from requests<3.0,>=2.31->otter-grader) (2.3.0)\n",
      "Requirement already satisfied: certifi>=2017.4.17 in c:\\users\\roche\\appdata\\local\\programs\\python\\python313\\lib\\site-packages (from requests<3.0,>=2.31->otter-grader) (2025.1.31)\n",
      "Requirement already satisfied: webencodings in c:\\users\\roche\\appdata\\local\\programs\\python\\python313\\lib\\site-packages (from bleach!=5.0.0->bleach[css]!=5.0.0->nbconvert>=6.0.0->nbconvert[webpdf]>=6.0.0; sys_platform != \"emscripten\" and sys_platform != \"wasi\"->otter-grader) (0.5.1)\n",
      "Requirement already satisfied: tinycss2<1.5,>=1.1.0 in c:\\users\\roche\\appdata\\local\\programs\\python\\python313\\lib\\site-packages (from bleach[css]!=5.0.0->nbconvert>=6.0.0->nbconvert[webpdf]>=6.0.0; sys_platform != \"emscripten\" and sys_platform != \"wasi\"->otter-grader) (1.4.0)\n",
      "Requirement already satisfied: parso<0.9.0,>=0.8.4 in c:\\users\\roche\\appdata\\roaming\\python\\python313\\site-packages (from jedi>=0.16->ipython->otter-grader) (0.8.4)\n",
      "Requirement already satisfied: attrs>=22.2.0 in c:\\users\\roche\\appdata\\local\\programs\\python\\python313\\lib\\site-packages (from jsonschema>=2.6->nbformat>=5.0.0->otter-grader) (25.1.0)\n",
      "Requirement already satisfied: jsonschema-specifications>=2023.03.6 in c:\\users\\roche\\appdata\\local\\programs\\python\\python313\\lib\\site-packages (from jsonschema>=2.6->nbformat>=5.0.0->otter-grader) (2024.10.1)\n",
      "Requirement already satisfied: referencing>=0.28.4 in c:\\users\\roche\\appdata\\local\\programs\\python\\python313\\lib\\site-packages (from jsonschema>=2.6->nbformat>=5.0.0->otter-grader) (0.36.2)\n",
      "Requirement already satisfied: rpds-py>=0.7.1 in c:\\users\\roche\\appdata\\local\\programs\\python\\python313\\lib\\site-packages (from jsonschema>=2.6->nbformat>=5.0.0->otter-grader) (0.23.1)\n",
      "Requirement already satisfied: platformdirs>=2.5 in c:\\users\\roche\\appdata\\roaming\\python\\python313\\site-packages (from jupyter-core>=4.7->nbconvert>=6.0.0->nbconvert[webpdf]>=6.0.0; sys_platform != \"emscripten\" and sys_platform != \"wasi\"->otter-grader) (4.3.6)\n",
      "Requirement already satisfied: pywin32>=300 in c:\\users\\roche\\appdata\\roaming\\python\\python313\\site-packages (from jupyter-core>=4.7->nbconvert>=6.0.0->nbconvert[webpdf]>=6.0.0; sys_platform != \"emscripten\" and sys_platform != \"wasi\"->otter-grader) (308)\n",
      "Collecting mdurl~=0.1 (from markdown-it-py>=1.0->jupytext<2.0.0,>=1.16.4->otter-grader)\n",
      "  Downloading mdurl-0.1.2-py3-none-any.whl.metadata (1.6 kB)\n",
      "Requirement already satisfied: jupyter-client>=6.1.12 in c:\\users\\roche\\appdata\\roaming\\python\\python313\\site-packages (from nbclient>=0.5.0->nbconvert>=6.0.0->nbconvert[webpdf]>=6.0.0; sys_platform != \"emscripten\" and sys_platform != \"wasi\"->otter-grader) (8.6.3)\n",
      "Requirement already satisfied: wcwidth in c:\\users\\roche\\appdata\\roaming\\python\\python313\\site-packages (from prompt_toolkit<3.1.0,>=3.0.41->ipython->otter-grader) (0.2.13)\n",
      "Collecting annotated-types>=0.6.0 (from pydantic!=2.0.*,<3,>=2->python-on-whales<1.0.0,>=0.72.0->otter-grader)\n",
      "  Downloading annotated_types-0.7.0-py3-none-any.whl.metadata (15 kB)\n",
      "Collecting pydantic-core==2.27.2 (from pydantic!=2.0.*,<3,>=2->python-on-whales<1.0.0,>=0.72.0->otter-grader)\n",
      "  Downloading pydantic_core-2.27.2-cp313-cp313-win_amd64.whl.metadata (6.7 kB)\n",
      "Requirement already satisfied: six>=1.5 in c:\\users\\roche\\appdata\\roaming\\python\\python313\\site-packages (from python-dateutil>=2.8.2->pandas>=2.0.0->otter-grader) (1.17.0)\n",
      "Requirement already satisfied: soupsieve>1.2 in c:\\users\\roche\\appdata\\local\\programs\\python\\python313\\lib\\site-packages (from beautifulsoup4->nbconvert>=6.0.0->nbconvert[webpdf]>=6.0.0; sys_platform != \"emscripten\" and sys_platform != \"wasi\"->otter-grader) (2.6)\n",
      "Collecting pyee<13,>=12 (from playwright->nbconvert[webpdf]>=6.0.0; sys_platform != \"emscripten\" and sys_platform != \"wasi\"->otter-grader)\n",
      "  Downloading pyee-12.1.1-py3-none-any.whl.metadata (2.9 kB)\n",
      "Collecting greenlet<4.0.0,>=3.1.1 (from playwright->nbconvert[webpdf]>=6.0.0; sys_platform != \"emscripten\" and sys_platform != \"wasi\"->otter-grader)\n",
      "  Downloading greenlet-3.1.1-cp313-cp313-win_amd64.whl.metadata (3.9 kB)\n",
      "Collecting sphinxcontrib-applehelp>=1.0.7 (from sphinx->fica>=0.4.1->otter-grader)\n",
      "  Downloading sphinxcontrib_applehelp-2.0.0-py3-none-any.whl.metadata (2.3 kB)\n",
      "Collecting sphinxcontrib-devhelp>=1.0.6 (from sphinx->fica>=0.4.1->otter-grader)\n",
      "  Downloading sphinxcontrib_devhelp-2.0.0-py3-none-any.whl.metadata (2.3 kB)\n",
      "Collecting sphinxcontrib-htmlhelp>=2.0.6 (from sphinx->fica>=0.4.1->otter-grader)\n",
      "  Downloading sphinxcontrib_htmlhelp-2.1.0-py3-none-any.whl.metadata (2.3 kB)\n",
      "Collecting sphinxcontrib-jsmath>=1.0.1 (from sphinx->fica>=0.4.1->otter-grader)\n",
      "  Downloading sphinxcontrib_jsmath-1.0.1-py2.py3-none-any.whl.metadata (1.4 kB)\n",
      "Collecting sphinxcontrib-qthelp>=1.0.6 (from sphinx->fica>=0.4.1->otter-grader)\n",
      "  Downloading sphinxcontrib_qthelp-2.0.0-py3-none-any.whl.metadata (2.3 kB)\n",
      "Collecting sphinxcontrib-serializinghtml>=1.1.9 (from sphinx->fica>=0.4.1->otter-grader)\n",
      "  Downloading sphinxcontrib_serializinghtml-2.0.0-py3-none-any.whl.metadata (2.4 kB)\n",
      "Collecting snowballstemmer>=2.2 (from sphinx->fica>=0.4.1->otter-grader)\n",
      "  Downloading snowballstemmer-2.2.0-py2.py3-none-any.whl.metadata (6.5 kB)\n",
      "Requirement already satisfied: babel>=2.13 in c:\\users\\roche\\appdata\\local\\programs\\python\\python313\\lib\\site-packages (from sphinx->fica>=0.4.1->otter-grader) (2.17.0)\n",
      "Collecting alabaster>=0.7.14 (from sphinx->fica>=0.4.1->otter-grader)\n",
      "  Downloading alabaster-1.0.0-py3-none-any.whl.metadata (2.8 kB)\n",
      "Collecting imagesize>=1.3 (from sphinx->fica>=0.4.1->otter-grader)\n",
      "  Downloading imagesize-1.4.1-py2.py3-none-any.whl.metadata (1.5 kB)\n",
      "Collecting roman-numerals-py>=1.0.0 (from sphinx->fica>=0.4.1->otter-grader)\n",
      "  Downloading roman_numerals_py-3.1.0-py3-none-any.whl.metadata (3.6 kB)\n",
      "Requirement already satisfied: executing>=1.2.0 in c:\\users\\roche\\appdata\\roaming\\python\\python313\\site-packages (from stack_data->ipython->otter-grader) (2.2.0)\n",
      "Requirement already satisfied: asttokens>=2.1.0 in c:\\users\\roche\\appdata\\roaming\\python\\python313\\site-packages (from stack_data->ipython->otter-grader) (3.0.0)\n",
      "Requirement already satisfied: pure-eval in c:\\users\\roche\\appdata\\roaming\\python\\python313\\site-packages (from stack_data->ipython->otter-grader) (0.2.3)\n",
      "Requirement already satisfied: pyzmq>=23.0 in c:\\users\\roche\\appdata\\roaming\\python\\python313\\site-packages (from jupyter-client>=6.1.12->nbclient>=0.5.0->nbconvert>=6.0.0->nbconvert[webpdf]>=6.0.0; sys_platform != \"emscripten\" and sys_platform != \"wasi\"->otter-grader) (26.2.1)\n",
      "Requirement already satisfied: tornado>=6.2 in c:\\users\\roche\\appdata\\roaming\\python\\python313\\site-packages (from jupyter-client>=6.1.12->nbclient>=0.5.0->nbconvert>=6.0.0->nbconvert[webpdf]>=6.0.0; sys_platform != \"emscripten\" and sys_platform != \"wasi\"->otter-grader) (6.4.2)\n",
      "Downloading otter_grader-6.1.1-py3-none-any.whl (142 kB)\n",
      "Downloading click-8.1.8-py3-none-any.whl (98 kB)\n",
      "Downloading dill-0.3.9-py3-none-any.whl (119 kB)\n",
      "Downloading fica-0.4.1-py3-none-any.whl (13 kB)\n",
      "Downloading ipylab-1.0.0-py3-none-any.whl (100 kB)\n",
      "Downloading jupytext-1.16.7-py3-none-any.whl (154 kB)\n",
      "Downloading pandas-2.2.3-cp313-cp313-win_amd64.whl (11.5 MB)\n",
      "   ---------------------------------------- 0.0/11.5 MB ? eta -:--:--\n",
      "   ----- ---------------------------------- 1.6/11.5 MB 7.8 MB/s eta 0:00:02\n",
      "   ---------- ----------------------------- 3.1/11.5 MB 9.5 MB/s eta 0:00:01\n",
      "   ---------- ----------------------------- 3.1/11.5 MB 9.5 MB/s eta 0:00:01\n",
      "   ----------- ---------------------------- 3.4/11.5 MB 4.1 MB/s eta 0:00:02\n",
      "   -------------- ------------------------- 4.2/11.5 MB 4.2 MB/s eta 0:00:02\n",
      "   --------------- ------------------------ 4.5/11.5 MB 3.8 MB/s eta 0:00:02\n",
      "   ----------------- ---------------------- 5.0/11.5 MB 3.5 MB/s eta 0:00:02\n",
      "   ------------------- -------------------- 5.5/11.5 MB 3.1 MB/s eta 0:00:02\n",
      "   -------------------- ------------------- 5.8/11.5 MB 3.0 MB/s eta 0:00:02\n",
      "   --------------------- ------------------ 6.0/11.5 MB 2.8 MB/s eta 0:00:02\n",
      "   --------------------- ------------------ 6.3/11.5 MB 2.7 MB/s eta 0:00:02\n",
      "   ----------------------- ---------------- 6.8/11.5 MB 2.6 MB/s eta 0:00:02\n",
      "   ------------------------ --------------- 7.1/11.5 MB 2.6 MB/s eta 0:00:02\n",
      "   -------------------------- ------------- 7.6/11.5 MB 2.5 MB/s eta 0:00:02\n",
      "   --------------------------- ------------ 7.9/11.5 MB 2.5 MB/s eta 0:00:02\n",
      "   ---------------------------- ----------- 8.1/11.5 MB 2.5 MB/s eta 0:00:02\n",
      "   ------------------------------ --------- 8.7/11.5 MB 2.4 MB/s eta 0:00:02\n",
      "   ------------------------------- -------- 9.2/11.5 MB 2.4 MB/s eta 0:00:01\n",
      "   -------------------------------- ------- 9.4/11.5 MB 2.3 MB/s eta 0:00:01\n",
      "   --------------------------------- ------ 9.7/11.5 MB 2.3 MB/s eta 0:00:01\n",
      "   ----------------------------------- ---- 10.2/11.5 MB 2.3 MB/s eta 0:00:01\n",
      "   ------------------------------------ --- 10.5/11.5 MB 2.3 MB/s eta 0:00:01\n",
      "   ------------------------------------- -- 10.7/11.5 MB 2.2 MB/s eta 0:00:01\n",
      "   ---------------------------------------  11.3/11.5 MB 2.2 MB/s eta 0:00:01\n",
      "   ---------------------------------------  11.3/11.5 MB 2.2 MB/s eta 0:00:01\n",
      "   ---------------------------------------- 11.5/11.5 MB 2.1 MB/s eta 0:00:00\n",
      "Downloading python_on_whales-0.75.1-py3-none-any.whl (114 kB)\n",
      "Downloading wrapt-1.17.2-cp313-cp313-win_amd64.whl (38 kB)\n",
      "Downloading markdown_it_py-3.0.0-py3-none-any.whl (87 kB)\n",
      "Downloading numpy-2.2.4-cp313-cp313-win_amd64.whl (12.6 MB)\n",
      "   ---------------------------------------- 0.0/12.6 MB ? eta -:--:--\n",
      "    --------------------------------------- 0.3/12.6 MB ? eta -:--:--\n",
      "   - -------------------------------------- 0.5/12.6 MB 1.6 MB/s eta 0:00:08\n",
      "   -- ------------------------------------- 0.8/12.6 MB 1.5 MB/s eta 0:00:09\n",
      "   ---- ----------------------------------- 1.3/12.6 MB 1.6 MB/s eta 0:00:08\n",
      "   ---- ----------------------------------- 1.6/12.6 MB 1.6 MB/s eta 0:00:07\n",
      "   ------ --------------------------------- 2.1/12.6 MB 1.7 MB/s eta 0:00:07\n",
      "   ------- -------------------------------- 2.4/12.6 MB 1.7 MB/s eta 0:00:07\n",
      "   --------- ------------------------------ 2.9/12.6 MB 1.7 MB/s eta 0:00:06\n",
      "   --------- ------------------------------ 3.1/12.6 MB 1.7 MB/s eta 0:00:06\n",
      "   ----------- ---------------------------- 3.7/12.6 MB 1.8 MB/s eta 0:00:06\n",
      "   ------------ --------------------------- 3.9/12.6 MB 1.8 MB/s eta 0:00:05\n",
      "   -------------- ------------------------- 4.5/12.6 MB 1.8 MB/s eta 0:00:05\n",
      "   -------------- ------------------------- 4.7/12.6 MB 1.8 MB/s eta 0:00:05\n",
      "   ---------------- ----------------------- 5.2/12.6 MB 1.8 MB/s eta 0:00:05\n",
      "   ----------------- ---------------------- 5.5/12.6 MB 1.8 MB/s eta 0:00:04\n",
      "   ------------------- -------------------- 6.0/12.6 MB 1.8 MB/s eta 0:00:04\n",
      "   -------------------- ------------------- 6.6/12.6 MB 1.8 MB/s eta 0:00:04\n",
      "   --------------------- ------------------ 6.8/12.6 MB 1.9 MB/s eta 0:00:04\n",
      "   ----------------------- ---------------- 7.3/12.6 MB 1.9 MB/s eta 0:00:03\n",
      "   ------------------------ --------------- 7.9/12.6 MB 1.9 MB/s eta 0:00:03\n",
      "   ------------------------- -------------- 8.1/12.6 MB 1.9 MB/s eta 0:00:03\n",
      "   --------------------------- ------------ 8.7/12.6 MB 1.9 MB/s eta 0:00:03\n",
      "   ---------------------------- ----------- 8.9/12.6 MB 1.9 MB/s eta 0:00:02\n",
      "   ----------------------------- ---------- 9.4/12.6 MB 1.9 MB/s eta 0:00:02\n",
      "   ------------------------------ --------- 9.7/12.6 MB 1.9 MB/s eta 0:00:02\n",
      "   ------------------------------- -------- 10.0/12.6 MB 1.9 MB/s eta 0:00:02\n",
      "   --------------------------------- ------ 10.5/12.6 MB 1.9 MB/s eta 0:00:02\n",
      "   ---------------------------------- ----- 10.7/12.6 MB 1.9 MB/s eta 0:00:02\n",
      "   ----------------------------------- ---- 11.3/12.6 MB 1.9 MB/s eta 0:00:01\n",
      "   ------------------------------------ --- 11.5/12.6 MB 1.8 MB/s eta 0:00:01\n",
      "   ------------------------------------- -- 11.8/12.6 MB 1.8 MB/s eta 0:00:01\n",
      "   -------------------------------------- - 12.3/12.6 MB 1.8 MB/s eta 0:00:01\n",
      "   ---------------------------------------  12.6/12.6 MB 1.8 MB/s eta 0:00:01\n",
      "   ---------------------------------------- 12.6/12.6 MB 1.8 MB/s eta 0:00:00\n",
      "Downloading pydantic-2.10.6-py3-none-any.whl (431 kB)\n",
      "Downloading pydantic_core-2.27.2-cp313-cp313-win_amd64.whl (2.0 MB)\n",
      "   ---------------------------------------- 0.0/2.0 MB ? eta -:--:--\n",
      "   ----- ---------------------------------- 0.3/2.0 MB ? eta -:--:--\n",
      "   ---------- ----------------------------- 0.5/2.0 MB 1.7 MB/s eta 0:00:01\n",
      "   --------------------- ------------------ 1.0/2.0 MB 1.7 MB/s eta 0:00:01\n",
      "   -------------------------- ------------- 1.3/2.0 MB 1.7 MB/s eta 0:00:01\n",
      "   ------------------------------- -------- 1.6/2.0 MB 1.7 MB/s eta 0:00:01\n",
      "   ---------------------------------------- 2.0/2.0 MB 1.7 MB/s eta 0:00:00\n",
      "Downloading pytz-2025.1-py2.py3-none-any.whl (507 kB)\n",
      "Using cached tzdata-2025.1-py2.py3-none-any.whl (346 kB)\n",
      "Downloading docutils-0.21.2-py3-none-any.whl (587 kB)\n",
      "   ---------------------------------------- 0.0/587.4 kB ? eta -:--:--\n",
      "   ----------------- ---------------------- 262.1/587.4 kB ? eta -:--:--\n",
      "   ---------------------------------------- 587.4/587.4 kB 1.8 MB/s eta 0:00:00\n",
      "Downloading mdit_py_plugins-0.4.2-py3-none-any.whl (55 kB)\n",
      "Downloading playwright-1.51.0-py3-none-win_amd64.whl (34.9 MB)\n",
      "   ---------------------------------------- 0.0/34.9 MB ? eta -:--:--\n",
      "   ---------------------------------------- 0.3/34.9 MB ? eta -:--:--\n",
      "    --------------------------------------- 0.8/34.9 MB 1.9 MB/s eta 0:00:18\n",
      "   - -------------------------------------- 1.0/34.9 MB 2.0 MB/s eta 0:00:17\n",
      "   - -------------------------------------- 1.6/34.9 MB 2.0 MB/s eta 0:00:17\n",
      "   -- ------------------------------------- 2.1/34.9 MB 2.0 MB/s eta 0:00:17\n",
      "   -- ------------------------------------- 2.4/34.9 MB 2.0 MB/s eta 0:00:17\n",
      "   --- ------------------------------------ 2.9/34.9 MB 2.0 MB/s eta 0:00:16\n",
      "   --- ------------------------------------ 3.4/34.9 MB 2.0 MB/s eta 0:00:16\n",
      "   ---- ----------------------------------- 3.7/34.9 MB 2.0 MB/s eta 0:00:16\n",
      "   ---- ----------------------------------- 4.2/34.9 MB 2.1 MB/s eta 0:00:15\n",
      "   ----- ---------------------------------- 4.7/34.9 MB 2.1 MB/s eta 0:00:15\n",
      "   ------ --------------------------------- 5.2/34.9 MB 2.1 MB/s eta 0:00:15\n",
      "   ------ --------------------------------- 5.8/34.9 MB 2.1 MB/s eta 0:00:14\n",
      "   ------- -------------------------------- 6.3/34.9 MB 2.1 MB/s eta 0:00:14\n",
      "   ------- -------------------------------- 6.8/34.9 MB 2.1 MB/s eta 0:00:14\n",
      "   -------- ------------------------------- 7.3/34.9 MB 2.1 MB/s eta 0:00:13\n",
      "   -------- ------------------------------- 7.6/34.9 MB 2.1 MB/s eta 0:00:13\n",
      "   --------- ------------------------------ 8.1/34.9 MB 2.2 MB/s eta 0:00:13\n",
      "   --------- ------------------------------ 8.4/34.9 MB 2.1 MB/s eta 0:00:13\n",
      "   ---------- ----------------------------- 8.9/34.9 MB 2.1 MB/s eta 0:00:13\n",
      "   ---------- ----------------------------- 9.2/34.9 MB 2.1 MB/s eta 0:00:13\n",
      "   ----------- ---------------------------- 9.7/34.9 MB 2.1 MB/s eta 0:00:13\n",
      "   ----------- ---------------------------- 10.0/34.9 MB 2.1 MB/s eta 0:00:13\n",
      "   ----------- ---------------------------- 10.2/34.9 MB 2.1 MB/s eta 0:00:12\n",
      "   ------------ --------------------------- 10.7/34.9 MB 2.0 MB/s eta 0:00:12\n",
      "   ------------ --------------------------- 11.0/34.9 MB 2.0 MB/s eta 0:00:12\n",
      "   ------------- -------------------------- 11.5/34.9 MB 2.0 MB/s eta 0:00:12\n",
      "   ------------- -------------------------- 11.8/34.9 MB 2.0 MB/s eta 0:00:12\n",
      "   ------------- -------------------------- 12.1/34.9 MB 2.0 MB/s eta 0:00:12\n",
      "   -------------- ------------------------- 12.6/34.9 MB 2.0 MB/s eta 0:00:12\n",
      "   -------------- ------------------------- 12.8/34.9 MB 2.0 MB/s eta 0:00:12\n",
      "   --------------- ------------------------ 13.1/34.9 MB 2.0 MB/s eta 0:00:12\n",
      "   --------------- ------------------------ 13.6/34.9 MB 1.9 MB/s eta 0:00:11\n",
      "   --------------- ------------------------ 13.9/34.9 MB 1.9 MB/s eta 0:00:11\n",
      "   ---------------- ----------------------- 14.4/34.9 MB 1.9 MB/s eta 0:00:11\n",
      "   ---------------- ----------------------- 14.7/34.9 MB 1.9 MB/s eta 0:00:11\n",
      "   ----------------- ---------------------- 15.2/34.9 MB 1.9 MB/s eta 0:00:11\n",
      "   ------------------ --------------------- 15.7/34.9 MB 1.9 MB/s eta 0:00:10\n",
      "   ------------------ --------------------- 16.0/34.9 MB 1.9 MB/s eta 0:00:10\n",
      "   ------------------ --------------------- 16.5/34.9 MB 1.9 MB/s eta 0:00:10\n",
      "   ------------------- -------------------- 16.8/34.9 MB 1.9 MB/s eta 0:00:10\n",
      "   ------------------- -------------------- 17.3/34.9 MB 1.9 MB/s eta 0:00:10\n",
      "   -------------------- ------------------- 17.8/34.9 MB 1.9 MB/s eta 0:00:09\n",
      "   -------------------- ------------------- 18.1/34.9 MB 1.9 MB/s eta 0:00:09\n",
      "   --------------------- ------------------ 18.4/34.9 MB 1.9 MB/s eta 0:00:09\n",
      "   --------------------- ------------------ 18.9/34.9 MB 1.9 MB/s eta 0:00:09\n",
      "   --------------------- ------------------ 19.1/34.9 MB 1.9 MB/s eta 0:00:09\n",
      "   ---------------------- ----------------- 19.4/34.9 MB 1.9 MB/s eta 0:00:09\n",
      "   ---------------------- ----------------- 19.9/34.9 MB 1.9 MB/s eta 0:00:08\n",
      "   ----------------------- ---------------- 20.2/34.9 MB 1.9 MB/s eta 0:00:08\n",
      "   ----------------------- ---------------- 20.7/34.9 MB 1.9 MB/s eta 0:00:08\n",
      "   ------------------------ --------------- 21.0/34.9 MB 1.9 MB/s eta 0:00:08\n",
      "   ------------------------ --------------- 21.5/34.9 MB 1.9 MB/s eta 0:00:07\n",
      "   ------------------------- -------------- 22.0/34.9 MB 1.9 MB/s eta 0:00:07\n",
      "   ------------------------- -------------- 22.3/34.9 MB 1.9 MB/s eta 0:00:07\n",
      "   -------------------------- ------------- 22.8/34.9 MB 1.9 MB/s eta 0:00:07\n",
      "   -------------------------- ------------- 23.1/34.9 MB 1.9 MB/s eta 0:00:07\n",
      "   -------------------------- ------------- 23.3/34.9 MB 1.9 MB/s eta 0:00:07\n",
      "   --------------------------- ------------ 23.6/34.9 MB 1.9 MB/s eta 0:00:06\n",
      "   --------------------------- ------------ 23.9/34.9 MB 1.9 MB/s eta 0:00:06\n",
      "   --------------------------- ------------ 24.1/34.9 MB 1.9 MB/s eta 0:00:06\n",
      "   --------------------------- ------------ 24.1/34.9 MB 1.9 MB/s eta 0:00:06\n",
      "   --------------------------- ------------ 24.4/34.9 MB 1.8 MB/s eta 0:00:06\n",
      "   ---------------------------- ----------- 24.6/34.9 MB 1.8 MB/s eta 0:00:06\n",
      "   ---------------------------- ----------- 24.6/34.9 MB 1.8 MB/s eta 0:00:06\n",
      "   ---------------------------- ----------- 24.9/34.9 MB 1.8 MB/s eta 0:00:06\n",
      "   ---------------------------- ----------- 25.2/34.9 MB 1.8 MB/s eta 0:00:06\n",
      "   ----------------------------- ---------- 25.4/34.9 MB 1.8 MB/s eta 0:00:06\n",
      "   ----------------------------- ---------- 25.7/34.9 MB 1.7 MB/s eta 0:00:06\n",
      "   ----------------------------- ---------- 25.7/34.9 MB 1.7 MB/s eta 0:00:06\n",
      "   ----------------------------- ---------- 26.0/34.9 MB 1.7 MB/s eta 0:00:06\n",
      "   ------------------------------ --------- 26.2/34.9 MB 1.7 MB/s eta 0:00:06\n",
      "   ------------------------------ --------- 26.5/34.9 MB 1.7 MB/s eta 0:00:05\n",
      "   ------------------------------ --------- 26.7/34.9 MB 1.7 MB/s eta 0:00:05\n",
      "   ------------------------------ --------- 27.0/34.9 MB 1.7 MB/s eta 0:00:05\n",
      "   ------------------------------- -------- 27.3/34.9 MB 1.7 MB/s eta 0:00:05\n",
      "   ------------------------------- -------- 27.5/34.9 MB 1.7 MB/s eta 0:00:05\n",
      "   ------------------------------- -------- 27.8/34.9 MB 1.7 MB/s eta 0:00:05\n",
      "   -------------------------------- ------- 28.3/34.9 MB 1.7 MB/s eta 0:00:04\n",
      "   -------------------------------- ------- 28.6/34.9 MB 1.7 MB/s eta 0:00:04\n",
      "   --------------------------------- ------ 28.8/34.9 MB 1.7 MB/s eta 0:00:04\n",
      "   --------------------------------- ------ 29.1/34.9 MB 1.7 MB/s eta 0:00:04\n",
      "   --------------------------------- ------ 29.4/34.9 MB 1.7 MB/s eta 0:00:04\n",
      "   ---------------------------------- ----- 29.9/34.9 MB 1.7 MB/s eta 0:00:03\n",
      "   ---------------------------------- ----- 30.1/34.9 MB 1.7 MB/s eta 0:00:03\n",
      "   ---------------------------------- ----- 30.4/34.9 MB 1.7 MB/s eta 0:00:03\n",
      "   ----------------------------------- ---- 30.9/34.9 MB 1.7 MB/s eta 0:00:03\n",
      "   ----------------------------------- ---- 31.2/34.9 MB 1.7 MB/s eta 0:00:03\n",
      "   ------------------------------------ --- 31.5/34.9 MB 1.7 MB/s eta 0:00:03\n",
      "   ------------------------------------ --- 32.0/34.9 MB 1.7 MB/s eta 0:00:02\n",
      "   ------------------------------------ --- 32.2/34.9 MB 1.7 MB/s eta 0:00:02\n",
      "   ------------------------------------- -- 32.5/34.9 MB 1.7 MB/s eta 0:00:02\n",
      "   ------------------------------------- -- 33.0/34.9 MB 1.7 MB/s eta 0:00:02\n",
      "   -------------------------------------- - 33.3/34.9 MB 1.7 MB/s eta 0:00:01\n",
      "   -------------------------------------- - 33.8/34.9 MB 1.7 MB/s eta 0:00:01\n",
      "   ---------------------------------------  34.3/34.9 MB 1.7 MB/s eta 0:00:01\n",
      "   ---------------------------------------  34.6/34.9 MB 1.7 MB/s eta 0:00:01\n",
      "   ---------------------------------------- 34.9/34.9 MB 1.7 MB/s eta 0:00:00\n",
      "Downloading sphinx-8.2.3-py3-none-any.whl (3.6 MB)\n",
      "   ---------------------------------------- 0.0/3.6 MB ? eta -:--:--\n",
      "   -- ------------------------------------- 0.3/3.6 MB ? eta -:--:--\n",
      "   -------- ------------------------------- 0.8/3.6 MB 2.3 MB/s eta 0:00:02\n",
      "   -------------- ------------------------- 1.3/3.6 MB 2.4 MB/s eta 0:00:01\n",
      "   ----------------------- ---------------- 2.1/3.6 MB 2.5 MB/s eta 0:00:01\n",
      "   ----------------------------- ---------- 2.6/3.6 MB 2.6 MB/s eta 0:00:01\n",
      "   ----------------------------------- ---- 3.1/3.6 MB 2.7 MB/s eta 0:00:01\n",
      "   ---------------------------------------- 3.6/3.6 MB 2.7 MB/s eta 0:00:00\n",
      "Downloading alabaster-1.0.0-py3-none-any.whl (13 kB)\n",
      "Downloading annotated_types-0.7.0-py3-none-any.whl (13 kB)\n",
      "Downloading greenlet-3.1.1-cp313-cp313-win_amd64.whl (299 kB)\n",
      "Downloading imagesize-1.4.1-py2.py3-none-any.whl (8.8 kB)\n",
      "Downloading mdurl-0.1.2-py3-none-any.whl (10.0 kB)\n",
      "Downloading pyee-12.1.1-py3-none-any.whl (15 kB)\n",
      "Downloading roman_numerals_py-3.1.0-py3-none-any.whl (7.7 kB)\n",
      "Downloading snowballstemmer-2.2.0-py2.py3-none-any.whl (93 kB)\n",
      "Downloading sphinxcontrib_applehelp-2.0.0-py3-none-any.whl (119 kB)\n",
      "Downloading sphinxcontrib_devhelp-2.0.0-py3-none-any.whl (82 kB)\n",
      "Downloading sphinxcontrib_htmlhelp-2.1.0-py3-none-any.whl (98 kB)\n",
      "Downloading sphinxcontrib_jsmath-1.0.1-py2.py3-none-any.whl (5.1 kB)\n",
      "Downloading sphinxcontrib_qthelp-2.0.0-py3-none-any.whl (88 kB)\n",
      "Downloading sphinxcontrib_serializinghtml-2.0.0-py3-none-any.whl (92 kB)\n",
      "Installing collected packages: snowballstemmer, pytz, wrapt, tzdata, sphinxcontrib-serializinghtml, sphinxcontrib-qthelp, sphinxcontrib-jsmath, sphinxcontrib-htmlhelp, sphinxcontrib-devhelp, sphinxcontrib-applehelp, roman-numerals-py, pyee, pydantic-core, numpy, mdurl, imagesize, greenlet, docutils, dill, click, annotated-types, alabaster, sphinx, pydantic, playwright, pandas, markdown-it-py, python-on-whales, mdit-py-plugins, fica, ipylab, jupytext, otter-grader\n",
      "Successfully installed alabaster-1.0.0 annotated-types-0.7.0 click-8.1.8 dill-0.3.9 docutils-0.21.2 fica-0.4.1 greenlet-3.1.1 imagesize-1.4.1 ipylab-1.0.0 jupytext-1.16.7 markdown-it-py-3.0.0 mdit-py-plugins-0.4.2 mdurl-0.1.2 numpy-2.2.4 otter-grader-6.1.1 pandas-2.2.3 playwright-1.51.0 pydantic-2.10.6 pydantic-core-2.27.2 pyee-12.1.1 python-on-whales-0.75.1 pytz-2025.1 roman-numerals-py-3.1.0 snowballstemmer-2.2.0 sphinx-8.2.3 sphinxcontrib-applehelp-2.0.0 sphinxcontrib-devhelp-2.0.0 sphinxcontrib-htmlhelp-2.1.0 sphinxcontrib-jsmath-1.0.1 sphinxcontrib-qthelp-2.0.0 sphinxcontrib-serializinghtml-2.0.0 tzdata-2025.1 wrapt-1.17.2\n",
      "Note: you may need to restart the kernel to use updated packages.\n"
     ]
    },
    {
     "name": "stderr",
     "output_type": "stream",
     "text": [
      "  WARNING: The scripts f2py.exe and numpy-config.exe are installed in 'c:\\Users\\Roche\\AppData\\Local\\Programs\\Python\\Python313\\Scripts' which is not on PATH.\n",
      "  Consider adding this directory to PATH or, if you prefer to suppress this warning, use --no-warn-script-location.\n",
      "  WARNING: The scripts docutils.exe, rst2html.exe, rst2html4.exe, rst2html5.exe, rst2latex.exe, rst2man.exe, rst2odt.exe, rst2pseudoxml.exe, rst2s5.exe, rst2xetex.exe and rst2xml.exe are installed in 'c:\\Users\\Roche\\AppData\\Local\\Programs\\Python\\Python313\\Scripts' which is not on PATH.\n",
      "  Consider adding this directory to PATH or, if you prefer to suppress this warning, use --no-warn-script-location.\n",
      "  WARNING: The scripts sphinx-apidoc.exe, sphinx-autogen.exe, sphinx-build.exe and sphinx-quickstart.exe are installed in 'c:\\Users\\Roche\\AppData\\Local\\Programs\\Python\\Python313\\Scripts' which is not on PATH.\n",
      "  Consider adding this directory to PATH or, if you prefer to suppress this warning, use --no-warn-script-location.\n",
      "  WARNING: The script playwright.exe is installed in 'c:\\Users\\Roche\\AppData\\Local\\Programs\\Python\\Python313\\Scripts' which is not on PATH.\n",
      "  Consider adding this directory to PATH or, if you prefer to suppress this warning, use --no-warn-script-location.\n",
      "  WARNING: The script markdown-it.exe is installed in 'c:\\Users\\Roche\\AppData\\Local\\Programs\\Python\\Python313\\Scripts' which is not on PATH.\n",
      "  Consider adding this directory to PATH or, if you prefer to suppress this warning, use --no-warn-script-location.\n",
      "  WARNING: The script python-on-whales.exe is installed in 'c:\\Users\\Roche\\AppData\\Local\\Programs\\Python\\Python313\\Scripts' which is not on PATH.\n",
      "  Consider adding this directory to PATH or, if you prefer to suppress this warning, use --no-warn-script-location.\n",
      "  WARNING: The scripts jupytext-config.exe and jupytext.exe are installed in 'c:\\Users\\Roche\\AppData\\Local\\Programs\\Python\\Python313\\Scripts' which is not on PATH.\n",
      "  Consider adding this directory to PATH or, if you prefer to suppress this warning, use --no-warn-script-location.\n",
      "  WARNING: The scripts gmail_oauth2.exe and otter.exe are installed in 'c:\\Users\\Roche\\AppData\\Local\\Programs\\Python\\Python313\\Scripts' which is not on PATH.\n",
      "  Consider adding this directory to PATH or, if you prefer to suppress this warning, use --no-warn-script-location.\n",
      "\n",
      "[notice] A new release of pip is available: 24.3.1 -> 25.0.1\n",
      "[notice] To update, run: python.exe -m pip install --upgrade pip\n"
     ]
    }
   ],
   "source": [
    "pip install otter-grader"
   ]
  },
  {
   "cell_type": "code",
   "execution_count": 4,
   "metadata": {},
   "outputs": [
    {
     "name": "stdout",
     "output_type": "stream",
     "text": [
      "Name: otter-grader\n",
      "Version: 6.1.1\n",
      "Summary: A Python and R autograding solution\n",
      "Home-page: https://otter-grader.readthedocs.io/\n",
      "Author: Christopher Pyles\n",
      "Author-email: cpyles@berkeley.edu\n",
      "License: BSD-3-Clause\n",
      "Location: c:\\Users\\Roche\\AppData\\Local\\Programs\\Python\\Python313\\Lib\\site-packages\n",
      "Requires: click, dill, fica, ipylab, ipython, ipywidgets, jinja2, jupytext, nbconvert, nbformat, pandas, python-on-whales, pyyaml, requests, wrapt\n",
      "Required-by: \n",
      "Note: you may need to restart the kernel to use updated packages.\n"
     ]
    }
   ],
   "source": [
    "pip show otter-grader"
   ]
  },
  {
   "cell_type": "markdown",
   "metadata": {},
   "source": [
    "# DSA 2025 Summer School Admittance Check\n",
    "\n",
    "Thanks for your interest in attending DSA 2025 Ibadan, Nigeria. To attend the summer school you have to have some level of basic Python proficiency. Completing the following notebook should ensure you have the right kind of background to benefit maximally from the Summer School. See you in Ibadan!\n",
    "\n",
    "## Instructions\n",
    "1. Complete each function according to the provided specifications\n",
    "2. Run all cells to verify your solutions\n",
    "3. All tests must pass to generate a submission\n",
    "4. Save your work before submitting"
   ]
  },
  {
   "cell_type": "code",
   "execution_count": 2,
   "metadata": {},
   "outputs": [
    {
     "name": "stdout",
     "output_type": "stream",
     "text": [
      "Requirement already satisfied: otter-grader in c:\\users\\roche\\appdata\\local\\programs\\python\\python313\\lib\\site-packages (6.1.1)\n",
      "Requirement already satisfied: click<9.0.0,>=8.1.7 in c:\\users\\roche\\appdata\\local\\programs\\python\\python313\\lib\\site-packages (from otter-grader) (8.1.8)\n",
      "Requirement already satisfied: dill>=0.3.0 in c:\\users\\roche\\appdata\\local\\programs\\python\\python313\\lib\\site-packages (from otter-grader) (0.3.9)\n",
      "Requirement already satisfied: fica>=0.4.1 in c:\\users\\roche\\appdata\\local\\programs\\python\\python313\\lib\\site-packages (from otter-grader) (0.4.1)\n",
      "Requirement already satisfied: ipylab<2.0.0,>=1.0.0 in c:\\users\\roche\\appdata\\local\\programs\\python\\python313\\lib\\site-packages (from otter-grader) (1.0.0)\n",
      "Requirement already satisfied: ipython in c:\\users\\roche\\appdata\\roaming\\python\\python313\\site-packages (from otter-grader) (9.0.2)\n",
      "Requirement already satisfied: ipywidgets<9.0.0,>=8.1.5 in c:\\users\\roche\\appdata\\local\\programs\\python\\python313\\lib\\site-packages (from otter-grader) (8.1.5)\n",
      "Requirement already satisfied: jinja2<4.0,>=3.1 in c:\\users\\roche\\appdata\\local\\programs\\python\\python313\\lib\\site-packages (from otter-grader) (3.1.6)\n",
      "Requirement already satisfied: jupytext<2.0.0,>=1.16.4 in c:\\users\\roche\\appdata\\local\\programs\\python\\python313\\lib\\site-packages (from otter-grader) (1.16.7)\n",
      "Requirement already satisfied: nbconvert>=6.0.0 in c:\\users\\roche\\appdata\\local\\programs\\python\\python313\\lib\\site-packages (from nbconvert[webpdf]>=6.0.0; sys_platform != \"emscripten\" and sys_platform != \"wasi\"->otter-grader) (7.16.6)\n",
      "Requirement already satisfied: nbformat>=5.0.0 in c:\\users\\roche\\appdata\\local\\programs\\python\\python313\\lib\\site-packages (from otter-grader) (5.10.4)\n",
      "Requirement already satisfied: pandas>=2.0.0 in c:\\users\\roche\\appdata\\local\\programs\\python\\python313\\lib\\site-packages (from otter-grader) (2.2.3)\n",
      "Requirement already satisfied: python-on-whales<1.0.0,>=0.72.0 in c:\\users\\roche\\appdata\\local\\programs\\python\\python313\\lib\\site-packages (from otter-grader) (0.75.1)\n",
      "Requirement already satisfied: pyyaml<7,>=6 in c:\\users\\roche\\appdata\\local\\programs\\python\\python313\\lib\\site-packages (from otter-grader) (6.0.2)\n",
      "Requirement already satisfied: requests<3.0,>=2.31 in c:\\users\\roche\\appdata\\local\\programs\\python\\python313\\lib\\site-packages (from otter-grader) (2.32.3)\n",
      "Requirement already satisfied: wrapt<2.0.0,>=1.16.0 in c:\\users\\roche\\appdata\\local\\programs\\python\\python313\\lib\\site-packages (from otter-grader) (1.17.2)\n",
      "Requirement already satisfied: colorama in c:\\users\\roche\\appdata\\roaming\\python\\python313\\site-packages (from click<9.0.0,>=8.1.7->otter-grader) (0.4.6)\n",
      "Requirement already satisfied: docutils in c:\\users\\roche\\appdata\\local\\programs\\python\\python313\\lib\\site-packages (from fica>=0.4.1->otter-grader) (0.21.2)\n",
      "Requirement already satisfied: sphinx in c:\\users\\roche\\appdata\\local\\programs\\python\\python313\\lib\\site-packages (from fica>=0.4.1->otter-grader) (8.2.3)\n",
      "Requirement already satisfied: comm>=0.1.3 in c:\\users\\roche\\appdata\\roaming\\python\\python313\\site-packages (from ipywidgets<9.0.0,>=8.1.5->otter-grader) (0.2.2)\n",
      "Requirement already satisfied: traitlets>=4.3.1 in c:\\users\\roche\\appdata\\roaming\\python\\python313\\site-packages (from ipywidgets<9.0.0,>=8.1.5->otter-grader) (5.14.3)\n",
      "Requirement already satisfied: widgetsnbextension~=4.0.12 in c:\\users\\roche\\appdata\\local\\programs\\python\\python313\\lib\\site-packages (from ipywidgets<9.0.0,>=8.1.5->otter-grader) (4.0.13)\n",
      "Requirement already satisfied: jupyterlab-widgets~=3.0.12 in c:\\users\\roche\\appdata\\local\\programs\\python\\python313\\lib\\site-packages (from ipywidgets<9.0.0,>=8.1.5->otter-grader) (3.0.13)\n",
      "Requirement already satisfied: decorator in c:\\users\\roche\\appdata\\roaming\\python\\python313\\site-packages (from ipython->otter-grader) (5.2.1)\n",
      "Requirement already satisfied: ipython-pygments-lexers in c:\\users\\roche\\appdata\\roaming\\python\\python313\\site-packages (from ipython->otter-grader) (1.1.1)\n",
      "Requirement already satisfied: jedi>=0.16 in c:\\users\\roche\\appdata\\roaming\\python\\python313\\site-packages (from ipython->otter-grader) (0.19.2)\n",
      "Requirement already satisfied: matplotlib-inline in c:\\users\\roche\\appdata\\roaming\\python\\python313\\site-packages (from ipython->otter-grader) (0.1.7)\n",
      "Requirement already satisfied: prompt_toolkit<3.1.0,>=3.0.41 in c:\\users\\roche\\appdata\\roaming\\python\\python313\\site-packages (from ipython->otter-grader) (3.0.50)\n",
      "Requirement already satisfied: pygments>=2.4.0 in c:\\users\\roche\\appdata\\roaming\\python\\python313\\site-packages (from ipython->otter-grader) (2.19.1)\n",
      "Requirement already satisfied: stack_data in c:\\users\\roche\\appdata\\roaming\\python\\python313\\site-packages (from ipython->otter-grader) (0.6.3)\n",
      "Requirement already satisfied: MarkupSafe>=2.0 in c:\\users\\roche\\appdata\\local\\programs\\python\\python313\\lib\\site-packages (from jinja2<4.0,>=3.1->otter-grader) (3.0.2)\n",
      "Requirement already satisfied: markdown-it-py>=1.0 in c:\\users\\roche\\appdata\\local\\programs\\python\\python313\\lib\\site-packages (from jupytext<2.0.0,>=1.16.4->otter-grader) (3.0.0)\n",
      "Requirement already satisfied: mdit-py-plugins in c:\\users\\roche\\appdata\\local\\programs\\python\\python313\\lib\\site-packages (from jupytext<2.0.0,>=1.16.4->otter-grader) (0.4.2)\n",
      "Requirement already satisfied: packaging in c:\\users\\roche\\appdata\\roaming\\python\\python313\\site-packages (from jupytext<2.0.0,>=1.16.4->otter-grader) (24.2)\n",
      "Requirement already satisfied: beautifulsoup4 in c:\\users\\roche\\appdata\\local\\programs\\python\\python313\\lib\\site-packages (from nbconvert>=6.0.0->nbconvert[webpdf]>=6.0.0; sys_platform != \"emscripten\" and sys_platform != \"wasi\"->otter-grader) (4.13.3)\n",
      "Requirement already satisfied: bleach!=5.0.0 in c:\\users\\roche\\appdata\\local\\programs\\python\\python313\\lib\\site-packages (from bleach[css]!=5.0.0->nbconvert>=6.0.0->nbconvert[webpdf]>=6.0.0; sys_platform != \"emscripten\" and sys_platform != \"wasi\"->otter-grader) (6.2.0)\n",
      "Requirement already satisfied: defusedxml in c:\\users\\roche\\appdata\\local\\programs\\python\\python313\\lib\\site-packages (from nbconvert>=6.0.0->nbconvert[webpdf]>=6.0.0; sys_platform != \"emscripten\" and sys_platform != \"wasi\"->otter-grader) (0.7.1)\n",
      "Requirement already satisfied: jupyter-core>=4.7 in c:\\users\\roche\\appdata\\roaming\\python\\python313\\site-packages (from nbconvert>=6.0.0->nbconvert[webpdf]>=6.0.0; sys_platform != \"emscripten\" and sys_platform != \"wasi\"->otter-grader) (5.7.2)\n",
      "Requirement already satisfied: jupyterlab-pygments in c:\\users\\roche\\appdata\\local\\programs\\python\\python313\\lib\\site-packages (from nbconvert>=6.0.0->nbconvert[webpdf]>=6.0.0; sys_platform != \"emscripten\" and sys_platform != \"wasi\"->otter-grader) (0.3.0)\n",
      "Requirement already satisfied: mistune<4,>=2.0.3 in c:\\users\\roche\\appdata\\local\\programs\\python\\python313\\lib\\site-packages (from nbconvert>=6.0.0->nbconvert[webpdf]>=6.0.0; sys_platform != \"emscripten\" and sys_platform != \"wasi\"->otter-grader) (3.1.2)\n",
      "Requirement already satisfied: nbclient>=0.5.0 in c:\\users\\roche\\appdata\\local\\programs\\python\\python313\\lib\\site-packages (from nbconvert>=6.0.0->nbconvert[webpdf]>=6.0.0; sys_platform != \"emscripten\" and sys_platform != \"wasi\"->otter-grader) (0.10.2)\n",
      "Requirement already satisfied: pandocfilters>=1.4.1 in c:\\users\\roche\\appdata\\local\\programs\\python\\python313\\lib\\site-packages (from nbconvert>=6.0.0->nbconvert[webpdf]>=6.0.0; sys_platform != \"emscripten\" and sys_platform != \"wasi\"->otter-grader) (1.5.1)\n",
      "Requirement already satisfied: playwright in c:\\users\\roche\\appdata\\local\\programs\\python\\python313\\lib\\site-packages (from nbconvert[webpdf]>=6.0.0; sys_platform != \"emscripten\" and sys_platform != \"wasi\"->otter-grader) (1.51.0)\n",
      "Requirement already satisfied: fastjsonschema>=2.15 in c:\\users\\roche\\appdata\\local\\programs\\python\\python313\\lib\\site-packages (from nbformat>=5.0.0->otter-grader) (2.21.1)\n",
      "Requirement already satisfied: jsonschema>=2.6 in c:\\users\\roche\\appdata\\local\\programs\\python\\python313\\lib\\site-packages (from nbformat>=5.0.0->otter-grader) (4.23.0)\n",
      "Requirement already satisfied: numpy>=1.26.0 in c:\\users\\roche\\appdata\\local\\programs\\python\\python313\\lib\\site-packages (from pandas>=2.0.0->otter-grader) (2.2.4)\n",
      "Requirement already satisfied: python-dateutil>=2.8.2 in c:\\users\\roche\\appdata\\roaming\\python\\python313\\site-packages (from pandas>=2.0.0->otter-grader) (2.9.0.post0)\n",
      "Requirement already satisfied: pytz>=2020.1 in c:\\users\\roche\\appdata\\local\\programs\\python\\python313\\lib\\site-packages (from pandas>=2.0.0->otter-grader) (2025.1)\n",
      "Requirement already satisfied: tzdata>=2022.7 in c:\\users\\roche\\appdata\\local\\programs\\python\\python313\\lib\\site-packages (from pandas>=2.0.0->otter-grader) (2025.1)\n",
      "Requirement already satisfied: pydantic!=2.0.*,<3,>=2 in c:\\users\\roche\\appdata\\local\\programs\\python\\python313\\lib\\site-packages (from python-on-whales<1.0.0,>=0.72.0->otter-grader) (2.10.6)\n",
      "Requirement already satisfied: typing-extensions in c:\\users\\roche\\appdata\\local\\programs\\python\\python313\\lib\\site-packages (from python-on-whales<1.0.0,>=0.72.0->otter-grader) (4.12.2)\n",
      "Requirement already satisfied: charset-normalizer<4,>=2 in c:\\users\\roche\\appdata\\local\\programs\\python\\python313\\lib\\site-packages (from requests<3.0,>=2.31->otter-grader) (3.4.1)\n",
      "Requirement already satisfied: idna<4,>=2.5 in c:\\users\\roche\\appdata\\local\\programs\\python\\python313\\lib\\site-packages (from requests<3.0,>=2.31->otter-grader) (3.10)\n",
      "Requirement already satisfied: urllib3<3,>=1.21.1 in c:\\users\\roche\\appdata\\local\\programs\\python\\python313\\lib\\site-packages (from requests<3.0,>=2.31->otter-grader) (2.3.0)\n",
      "Requirement already satisfied: certifi>=2017.4.17 in c:\\users\\roche\\appdata\\local\\programs\\python\\python313\\lib\\site-packages (from requests<3.0,>=2.31->otter-grader) (2025.1.31)\n",
      "Requirement already satisfied: webencodings in c:\\users\\roche\\appdata\\local\\programs\\python\\python313\\lib\\site-packages (from bleach!=5.0.0->bleach[css]!=5.0.0->nbconvert>=6.0.0->nbconvert[webpdf]>=6.0.0; sys_platform != \"emscripten\" and sys_platform != \"wasi\"->otter-grader) (0.5.1)\n",
      "Requirement already satisfied: tinycss2<1.5,>=1.1.0 in c:\\users\\roche\\appdata\\local\\programs\\python\\python313\\lib\\site-packages (from bleach[css]!=5.0.0->nbconvert>=6.0.0->nbconvert[webpdf]>=6.0.0; sys_platform != \"emscripten\" and sys_platform != \"wasi\"->otter-grader) (1.4.0)\n",
      "Requirement already satisfied: parso<0.9.0,>=0.8.4 in c:\\users\\roche\\appdata\\roaming\\python\\python313\\site-packages (from jedi>=0.16->ipython->otter-grader) (0.8.4)\n",
      "Requirement already satisfied: attrs>=22.2.0 in c:\\users\\roche\\appdata\\local\\programs\\python\\python313\\lib\\site-packages (from jsonschema>=2.6->nbformat>=5.0.0->otter-grader) (25.1.0)\n",
      "Requirement already satisfied: jsonschema-specifications>=2023.03.6 in c:\\users\\roche\\appdata\\local\\programs\\python\\python313\\lib\\site-packages (from jsonschema>=2.6->nbformat>=5.0.0->otter-grader) (2024.10.1)\n",
      "Requirement already satisfied: referencing>=0.28.4 in c:\\users\\roche\\appdata\\local\\programs\\python\\python313\\lib\\site-packages (from jsonschema>=2.6->nbformat>=5.0.0->otter-grader) (0.36.2)\n",
      "Requirement already satisfied: rpds-py>=0.7.1 in c:\\users\\roche\\appdata\\local\\programs\\python\\python313\\lib\\site-packages (from jsonschema>=2.6->nbformat>=5.0.0->otter-grader) (0.23.1)\n",
      "Requirement already satisfied: platformdirs>=2.5 in c:\\users\\roche\\appdata\\roaming\\python\\python313\\site-packages (from jupyter-core>=4.7->nbconvert>=6.0.0->nbconvert[webpdf]>=6.0.0; sys_platform != \"emscripten\" and sys_platform != \"wasi\"->otter-grader) (4.3.6)\n",
      "Requirement already satisfied: pywin32>=300 in c:\\users\\roche\\appdata\\roaming\\python\\python313\\site-packages (from jupyter-core>=4.7->nbconvert>=6.0.0->nbconvert[webpdf]>=6.0.0; sys_platform != \"emscripten\" and sys_platform != \"wasi\"->otter-grader) (308)\n",
      "Requirement already satisfied: mdurl~=0.1 in c:\\users\\roche\\appdata\\local\\programs\\python\\python313\\lib\\site-packages (from markdown-it-py>=1.0->jupytext<2.0.0,>=1.16.4->otter-grader) (0.1.2)\n",
      "Requirement already satisfied: jupyter-client>=6.1.12 in c:\\users\\roche\\appdata\\roaming\\python\\python313\\site-packages (from nbclient>=0.5.0->nbconvert>=6.0.0->nbconvert[webpdf]>=6.0.0; sys_platform != \"emscripten\" and sys_platform != \"wasi\"->otter-grader) (8.6.3)\n",
      "Requirement already satisfied: wcwidth in c:\\users\\roche\\appdata\\roaming\\python\\python313\\site-packages (from prompt_toolkit<3.1.0,>=3.0.41->ipython->otter-grader) (0.2.13)\n",
      "Requirement already satisfied: annotated-types>=0.6.0 in c:\\users\\roche\\appdata\\local\\programs\\python\\python313\\lib\\site-packages (from pydantic!=2.0.*,<3,>=2->python-on-whales<1.0.0,>=0.72.0->otter-grader) (0.7.0)\n",
      "Requirement already satisfied: pydantic-core==2.27.2 in c:\\users\\roche\\appdata\\local\\programs\\python\\python313\\lib\\site-packages (from pydantic!=2.0.*,<3,>=2->python-on-whales<1.0.0,>=0.72.0->otter-grader) (2.27.2)\n",
      "Requirement already satisfied: six>=1.5 in c:\\users\\roche\\appdata\\roaming\\python\\python313\\site-packages (from python-dateutil>=2.8.2->pandas>=2.0.0->otter-grader) (1.17.0)\n",
      "Requirement already satisfied: soupsieve>1.2 in c:\\users\\roche\\appdata\\local\\programs\\python\\python313\\lib\\site-packages (from beautifulsoup4->nbconvert>=6.0.0->nbconvert[webpdf]>=6.0.0; sys_platform != \"emscripten\" and sys_platform != \"wasi\"->otter-grader) (2.6)\n",
      "Requirement already satisfied: pyee<13,>=12 in c:\\users\\roche\\appdata\\local\\programs\\python\\python313\\lib\\site-packages (from playwright->nbconvert[webpdf]>=6.0.0; sys_platform != \"emscripten\" and sys_platform != \"wasi\"->otter-grader) (12.1.1)\n",
      "Requirement already satisfied: greenlet<4.0.0,>=3.1.1 in c:\\users\\roche\\appdata\\local\\programs\\python\\python313\\lib\\site-packages (from playwright->nbconvert[webpdf]>=6.0.0; sys_platform != \"emscripten\" and sys_platform != \"wasi\"->otter-grader) (3.1.1)\n",
      "Requirement already satisfied: sphinxcontrib-applehelp>=1.0.7 in c:\\users\\roche\\appdata\\local\\programs\\python\\python313\\lib\\site-packages (from sphinx->fica>=0.4.1->otter-grader) (2.0.0)\n",
      "Requirement already satisfied: sphinxcontrib-devhelp>=1.0.6 in c:\\users\\roche\\appdata\\local\\programs\\python\\python313\\lib\\site-packages (from sphinx->fica>=0.4.1->otter-grader) (2.0.0)\n",
      "Requirement already satisfied: sphinxcontrib-htmlhelp>=2.0.6 in c:\\users\\roche\\appdata\\local\\programs\\python\\python313\\lib\\site-packages (from sphinx->fica>=0.4.1->otter-grader) (2.1.0)\n",
      "Requirement already satisfied: sphinxcontrib-jsmath>=1.0.1 in c:\\users\\roche\\appdata\\local\\programs\\python\\python313\\lib\\site-packages (from sphinx->fica>=0.4.1->otter-grader) (1.0.1)\n",
      "Requirement already satisfied: sphinxcontrib-qthelp>=1.0.6 in c:\\users\\roche\\appdata\\local\\programs\\python\\python313\\lib\\site-packages (from sphinx->fica>=0.4.1->otter-grader) (2.0.0)\n",
      "Requirement already satisfied: sphinxcontrib-serializinghtml>=1.1.9 in c:\\users\\roche\\appdata\\local\\programs\\python\\python313\\lib\\site-packages (from sphinx->fica>=0.4.1->otter-grader) (2.0.0)\n",
      "Requirement already satisfied: snowballstemmer>=2.2 in c:\\users\\roche\\appdata\\local\\programs\\python\\python313\\lib\\site-packages (from sphinx->fica>=0.4.1->otter-grader) (2.2.0)\n",
      "Requirement already satisfied: babel>=2.13 in c:\\users\\roche\\appdata\\local\\programs\\python\\python313\\lib\\site-packages (from sphinx->fica>=0.4.1->otter-grader) (2.17.0)\n",
      "Requirement already satisfied: alabaster>=0.7.14 in c:\\users\\roche\\appdata\\local\\programs\\python\\python313\\lib\\site-packages (from sphinx->fica>=0.4.1->otter-grader) (1.0.0)\n",
      "Requirement already satisfied: imagesize>=1.3 in c:\\users\\roche\\appdata\\local\\programs\\python\\python313\\lib\\site-packages (from sphinx->fica>=0.4.1->otter-grader) (1.4.1)\n",
      "Requirement already satisfied: roman-numerals-py>=1.0.0 in c:\\users\\roche\\appdata\\local\\programs\\python\\python313\\lib\\site-packages (from sphinx->fica>=0.4.1->otter-grader) (3.1.0)\n",
      "Requirement already satisfied: executing>=1.2.0 in c:\\users\\roche\\appdata\\roaming\\python\\python313\\site-packages (from stack_data->ipython->otter-grader) (2.2.0)\n",
      "Requirement already satisfied: asttokens>=2.1.0 in c:\\users\\roche\\appdata\\roaming\\python\\python313\\site-packages (from stack_data->ipython->otter-grader) (3.0.0)\n",
      "Requirement already satisfied: pure-eval in c:\\users\\roche\\appdata\\roaming\\python\\python313\\site-packages (from stack_data->ipython->otter-grader) (0.2.3)\n",
      "Requirement already satisfied: pyzmq>=23.0 in c:\\users\\roche\\appdata\\roaming\\python\\python313\\site-packages (from jupyter-client>=6.1.12->nbclient>=0.5.0->nbconvert>=6.0.0->nbconvert[webpdf]>=6.0.0; sys_platform != \"emscripten\" and sys_platform != \"wasi\"->otter-grader) (26.2.1)\n",
      "Requirement already satisfied: tornado>=6.2 in c:\\users\\roche\\appdata\\roaming\\python\\python313\\site-packages (from jupyter-client>=6.1.12->nbclient>=0.5.0->nbconvert>=6.0.0->nbconvert[webpdf]>=6.0.0; sys_platform != \"emscripten\" and sys_platform != \"wasi\"->otter-grader) (6.4.2)\n",
      "Note: you may need to restart the kernel to use updated packages.\n"
     ]
    },
    {
     "name": "stderr",
     "output_type": "stream",
     "text": [
      "\n",
      "[notice] A new release of pip is available: 24.3.1 -> 25.0.1\n",
      "[notice] To update, run: python.exe -m pip install --upgrade pip\n"
     ]
    },
    {
     "name": "stdout",
     "output_type": "stream",
     "text": [
      "Requirement already satisfied: numpy in c:\\users\\roche\\appdata\\local\\programs\\python\\python313\\lib\\site-packages (2.2.4)\n",
      "Note: you may need to restart the kernel to use updated packages.\n"
     ]
    },
    {
     "name": "stderr",
     "output_type": "stream",
     "text": [
      "\n",
      "[notice] A new release of pip is available: 24.3.1 -> 25.0.1\n",
      "[notice] To update, run: python.exe -m pip install --upgrade pip\n"
     ]
    },
    {
     "name": "stdout",
     "output_type": "stream",
     "text": [
      "Requirement already satisfied: pandas in c:\\users\\roche\\appdata\\local\\programs\\python\\python313\\lib\\site-packages (2.2.3)\n",
      "Requirement already satisfied: numpy>=1.26.0 in c:\\users\\roche\\appdata\\local\\programs\\python\\python313\\lib\\site-packages (from pandas) (2.2.4)\n",
      "Requirement already satisfied: python-dateutil>=2.8.2 in c:\\users\\roche\\appdata\\roaming\\python\\python313\\site-packages (from pandas) (2.9.0.post0)\n",
      "Requirement already satisfied: pytz>=2020.1 in c:\\users\\roche\\appdata\\local\\programs\\python\\python313\\lib\\site-packages (from pandas) (2025.1)\n",
      "Requirement already satisfied: tzdata>=2022.7 in c:\\users\\roche\\appdata\\local\\programs\\python\\python313\\lib\\site-packages (from pandas) (2025.1)\n",
      "Requirement already satisfied: six>=1.5 in c:\\users\\roche\\appdata\\roaming\\python\\python313\\site-packages (from python-dateutil>=2.8.2->pandas) (1.17.0)\n",
      "Note: you may need to restart the kernel to use updated packages.\n"
     ]
    },
    {
     "name": "stderr",
     "output_type": "stream",
     "text": [
      "\n",
      "[notice] A new release of pip is available: 24.3.1 -> 25.0.1\n",
      "[notice] To update, run: python.exe -m pip install --upgrade pip\n",
      "\n",
      "[notice] A new release of pip is available: 24.3.1 -> 25.0.1\n",
      "[notice] To update, run: python.exe -m pip install --upgrade pip\n",
      "test_addition (__main__.TestMath.test_addition) ... ok\n",
      "\n",
      "----------------------------------------------------------------------\n",
      "Ran 1 test in 0.002s\n",
      "\n",
      "OK\n"
     ]
    },
    {
     "name": "stdout",
     "output_type": "stream",
     "text": [
      "Requirement already satisfied: IPython in c:\\users\\roche\\appdata\\roaming\\python\\python313\\site-packages (9.0.2)\n",
      "Requirement already satisfied: colorama in c:\\users\\roche\\appdata\\roaming\\python\\python313\\site-packages (from IPython) (0.4.6)\n",
      "Requirement already satisfied: decorator in c:\\users\\roche\\appdata\\roaming\\python\\python313\\site-packages (from IPython) (5.2.1)\n",
      "Requirement already satisfied: ipython-pygments-lexers in c:\\users\\roche\\appdata\\roaming\\python\\python313\\site-packages (from IPython) (1.1.1)\n",
      "Requirement already satisfied: jedi>=0.16 in c:\\users\\roche\\appdata\\roaming\\python\\python313\\site-packages (from IPython) (0.19.2)\n",
      "Requirement already satisfied: matplotlib-inline in c:\\users\\roche\\appdata\\roaming\\python\\python313\\site-packages (from IPython) (0.1.7)\n",
      "Requirement already satisfied: prompt_toolkit<3.1.0,>=3.0.41 in c:\\users\\roche\\appdata\\roaming\\python\\python313\\site-packages (from IPython) (3.0.50)\n",
      "Requirement already satisfied: pygments>=2.4.0 in c:\\users\\roche\\appdata\\roaming\\python\\python313\\site-packages (from IPython) (2.19.1)\n",
      "Requirement already satisfied: stack_data in c:\\users\\roche\\appdata\\roaming\\python\\python313\\site-packages (from IPython) (0.6.3)\n",
      "Requirement already satisfied: traitlets>=5.13.0 in c:\\users\\roche\\appdata\\roaming\\python\\python313\\site-packages (from IPython) (5.14.3)\n",
      "Requirement already satisfied: parso<0.9.0,>=0.8.4 in c:\\users\\roche\\appdata\\roaming\\python\\python313\\site-packages (from jedi>=0.16->IPython) (0.8.4)\n",
      "Requirement already satisfied: wcwidth in c:\\users\\roche\\appdata\\roaming\\python\\python313\\site-packages (from prompt_toolkit<3.1.0,>=3.0.41->IPython) (0.2.13)\n",
      "Requirement already satisfied: executing>=1.2.0 in c:\\users\\roche\\appdata\\roaming\\python\\python313\\site-packages (from stack_data->IPython) (2.2.0)\n",
      "Requirement already satisfied: asttokens>=2.1.0 in c:\\users\\roche\\appdata\\roaming\\python\\python313\\site-packages (from stack_data->IPython) (3.0.0)\n",
      "Requirement already satisfied: pure-eval in c:\\users\\roche\\appdata\\roaming\\python\\python313\\site-packages (from stack_data->IPython) (0.2.3)\n",
      "Note: you may need to restart the kernel to use updated packages.\n"
     ]
    },
    {
     "data": {
      "text/plain": [
       "<unittest.main.TestProgram at 0x1e16b041010>"
      ]
     },
     "execution_count": 2,
     "metadata": {},
     "output_type": "execute_result"
    }
   ],
   "source": [
    "# Run these once ... To be on a safe side\n",
    "%pip install otter-grader\n",
    "%pip install numpy\n",
    "%pip install pandas\n",
    "%pip install IPython\n",
    "\n",
    "# Import the good stuff\n",
    "import IPython\n",
    "from IPython import get_ipython\n",
    "import pandas as pd\n",
    "import numpy as np\n",
    "import math\n",
    "import unittest\n",
    "import otter\n",
    "from collections import Counter\n",
    "\n",
    "grader = otter.Notebook()\n",
    "\n",
    "# Example usage of unittest\n",
    "class TestMath(unittest.TestCase):\n",
    "    def test_addition(self):\n",
    "        self.assertEqual(1 + 1, 2)\n",
    "\n",
    "# Run the tests\n",
    "unittest.main(argv=[''], verbosity=2, exit=False)"
   ]
  },
  {
   "cell_type": "markdown",
   "metadata": {
    "deletable": false,
    "editable": false
   },
   "source": [
    "<!-- BEGIN QUESTION -->\n",
    "\n",
    "**Question 1:** \n",
    "Write a Python function to return a tuple of even and odd numbers \n",
    "\n",
    "1.   List item\n",
    "2.   List item\n",
    "\n",
    "given an integer input.</br>\n",
    "Example: For input 10, the output should be ([2, 4, 6, 8, 10], [1, 3, 5, 7, 9])."
   ]
  },
  {
   "cell_type": "code",
   "execution_count": 12,
   "metadata": {
    "tags": []
   },
   "outputs": [
    {
     "name": "stdout",
     "output_type": "stream",
     "text": [
      "([2, 4, 6, 8, 10], [1, 3, 5, 7, 9])\n"
     ]
    }
   ],
   "source": [
    "def even_odd_numbers(n):\n",
    "    \"\"\"\n",
    "    Returns a tuple of even and odd numbers up to n.\n",
    "\n",
    "    Args:\n",
    "        n (int): The upper limit.\n",
    "\n",
    "    Returns:\n",
    "        tuple: A tuple of two lists: (evens, odds).\n",
    "    \"\"\"\n",
    "    evens = [i for i in range(1, n+1) if i % 2 == 0]\n",
    "    odds = [i for i in range(1, n+1) if i % 2 != 0]\n",
    "    return (evens, odds)  \n",
    "print(even_odd_numbers(10))  "
   ]
  },
  {
   "cell_type": "code",
   "execution_count": 13,
   "metadata": {
    "deletable": false,
    "editable": false
   },
   "outputs": [
    {
     "data": {
      "text/html": [
       "<p><strong><pre style='display: inline;'>q1</pre></strong> passed! 🚀</p>"
      ],
      "text/plain": [
       "q1 results: All test cases passed!"
      ]
     },
     "execution_count": 13,
     "metadata": {},
     "output_type": "execute_result"
    }
   ],
   "source": [
    "grader.check(\"q1\")"
   ]
  },
  {
   "cell_type": "markdown",
   "metadata": {
    "deletable": false,
    "editable": false
   },
   "source": [
    "<!-- END QUESTION -->\n",
    "\n",
    "<!-- BEGIN QUESTION -->\n",
    "\n",
    "**Question 2: Create a dictionary to store the frequency of each word in the paragraph provided.**</br>\n",
    "Example: For the paragraph \"Data science is fun. Data science is useful.\", the output should be {'Data': 2, 'science': 2, 'is': 2, 'fun': 1, 'useful': 1}."
   ]
  },
  {
   "cell_type": "code",
   "execution_count": 21,
   "metadata": {
    "tags": []
   },
   "outputs": [
    {
     "name": "stdout",
     "output_type": "stream",
     "text": [
      "{'data': 2, 'science': 2, 'is': 2, 'fun': 1, 'useful': 1}\n"
     ]
    }
   ],
   "source": [
    "from collections import Counter\n",
    "import re\n",
    "\n",
    "def word_frequency(paragraph):\n",
    "    \"\"\"\n",
    "    Returns a dictionary of word frequencies in a paragraph.\n",
    "\n",
    "    Args:\n",
    "        paragraph (str): The input paragraph.\n",
    "\n",
    "    Returns:\n",
    "        dict: A dictionary with words as keys and their frequencies as values.\n",
    "    \"\"\"\n",
    "    words = re.findall(r'\\b\\w+\\b', paragraph.lower())  # Extract words using regex\n",
    "    word_counts = Counter(words)  # Count occurrences of each word\n",
    "    return dict(word_counts)\n",
    "\n",
    "# Example usage:\n",
    "paragraph = \"Data science is fun. Data science is useful.\"\n",
    "print(word_frequency(paragraph))  \n"
   ]
  },
  {
   "cell_type": "code",
   "execution_count": 25,
   "metadata": {
    "deletable": false,
    "editable": false
   },
   "outputs": [
    {
     "data": {
      "text/html": [
       "<p><strong><pre style='display: inline;'>q2</pre></strong> passed! 🙌</p>"
      ],
      "text/plain": [
       "q2 results: All test cases passed!"
      ]
     },
     "execution_count": 25,
     "metadata": {},
     "output_type": "execute_result"
    }
   ],
   "source": [
    "grader.check(\"q2\")"
   ]
  },
  {
   "cell_type": "markdown",
   "metadata": {
    "deletable": false,
    "editable": false
   },
   "source": [
    "<!-- END QUESTION -->\n",
    "\n",
    "<!-- BEGIN QUESTION -->\n",
    "\n",
    "**Question 3: Extract the values from the dictionary above into a list and sort them in descending order.**</br>\n",
    "Example: For the dictionary {'a': 3, 'b': 1, 'c': 2}, the output should be [3, 2, 1]"
   ]
  },
  {
   "cell_type": "code",
   "execution_count": 27,
   "metadata": {
    "tags": []
   },
   "outputs": [
    {
     "name": "stdout",
     "output_type": "stream",
     "text": [
      "[3, 2, 1]\n"
     ]
    }
   ],
   "source": [
    "def extract_and_sort_values(dictionary):\n",
    "    \"\"\"\n",
    "    Extracts and sorts dictionary values in descending order.\n",
    "\n",
    "    Args:\n",
    "        dictionary (dict): The input dictionary.\n",
    "\n",
    "    Returns:\n",
    "        list: A list of sorted values in descending order.\n",
    "    \"\"\"\n",
    "    return sorted(dictionary.values(), reverse=True)\n",
    "\n",
    "data = {'a': 3, 'b': 1, 'c': 2}\n",
    "print(extract_and_sort_values(data))\n"
   ]
  },
  {
   "cell_type": "code",
   "execution_count": 28,
   "metadata": {
    "deletable": false,
    "editable": false
   },
   "outputs": [
    {
     "data": {
      "text/html": [
       "<p><strong><pre style='display: inline;'>q3</pre></strong> passed! 🙌</p>"
      ],
      "text/plain": [
       "q3 results: All test cases passed!"
      ]
     },
     "execution_count": 28,
     "metadata": {},
     "output_type": "execute_result"
    }
   ],
   "source": [
    "grader.check(\"q3\")"
   ]
  },
  {
   "cell_type": "markdown",
   "metadata": {
    "deletable": false,
    "editable": false
   },
   "source": [
    "<!-- END QUESTION -->\n",
    "\n",
    "<!-- BEGIN QUESTION -->\n",
    "\n",
    "**Question 4: Merge the two lists (from Questions 3 and 4) into a dictionary where the keys are the sorted keys and the values are the sorted values.**</br>\n",
    "Example: For lists ['a', 'b', 'c'] and [3, 2, 1], the output should be {'a': 3, 'b': 2, 'c': 1}"
   ]
  },
  {
   "cell_type": "code",
   "execution_count": null,
   "metadata": {
    "tags": []
   },
   "outputs": [
    {
     "name": "stdout",
     "output_type": "stream",
     "text": [
      "Test case passed!\n"
     ]
    }
   ],
   "source": [
    "def merge_lists_to_dict(keys, values):\n",
    "    \"\"\"\n",
    "    Merges two lists into a dictionary, ensuring that corresponding keys and values match.\n",
    "\n",
    "    Args:\n",
    "        keys (list): List of keys.\n",
    "        values (list): List of values.\n",
    "\n",
    "    Returns:\n",
    "        dict: A dictionary with keys and values paired.\n",
    "    \"\"\"\n",
    "    if len(keys) != len(values):\n",
    "        raise ValueError(\"Keys and values lists must be of the same length.\")\n",
    "\n",
    "    return dict(zip(keys, values))\n",
    "\n",
    "# Test case\n",
    "assert merge_lists_to_dict(['a', 'b', 'c'], [3, 2, 1]) == {'a': 3, 'b': 2, 'c': 1}  # Expected output: {'a': 3, 'b': 2, 'c': 1}\n",
    "\n",
    "print(\"Test case passed!\")  # This prints only if there's no error.\n"
   ]
  },
  {
   "cell_type": "code",
   "execution_count": 34,
   "metadata": {
    "deletable": false,
    "editable": false
   },
   "outputs": [
    {
     "data": {
      "text/html": [
       "<p><strong><pre style='display: inline;'>q4</pre></strong> passed! 🌈</p>"
      ],
      "text/plain": [
       "q4 results: All test cases passed!"
      ]
     },
     "execution_count": 34,
     "metadata": {},
     "output_type": "execute_result"
    }
   ],
   "source": [
    "grader.check(\"q4\")"
   ]
  },
  {
   "cell_type": "markdown",
   "metadata": {
    "deletable": false,
    "editable": false
   },
   "source": [
    "<!-- END QUESTION -->\n",
    "\n",
    "<!-- BEGIN QUESTION -->\n",
    "\n",
    "**Question 5:Write a function least_common_multiple that takes two inputs a and b and returns the least common multiple of the two numbers.**</br>\n",
    "Example: For input (4, 6), the output should be 12"
   ]
  },
  {
   "cell_type": "code",
   "execution_count": null,
   "metadata": {
    "tags": []
   },
   "outputs": [],
   "source": [
    "import math\n",
    "\n",
    "def least_common_multiple(a, b):\n",
    "    \"\"\"\n",
    "    Returns the least common multiple (LCM) of two numbers.\n",
    "\n",
    "    Args:\n",
    "        a (int): First number.\n",
    "        b (int): Second number.\n",
    "\n",
    "    Returns:\n",
    "        int: The LCM of a and b.\n",
    "    \"\"\"\n",
    "    return abs(a * b) // math.gcd(a, b)  # Using GCD to calculate LCM\n",
    "\n",
    "# Test case\n",
    "assert least_common_multiple(4, 6) == 12  \n",
    "assert least_common_multiple(7, 3) == 21  \n",
    "assert least_common_multiple(10, 15) == 30 \n",
    "\n",
    "\n"
   ]
  },
  {
   "cell_type": "code",
   "execution_count": 5,
   "metadata": {
    "deletable": false,
    "editable": false
   },
   "outputs": [
    {
     "data": {
      "text/html": [
       "<p><strong><pre style='display: inline;'>q5</pre></strong> passed! 💯</p>"
      ],
      "text/plain": [
       "q5 results: All test cases passed!"
      ]
     },
     "execution_count": 5,
     "metadata": {},
     "output_type": "execute_result"
    }
   ],
   "source": [
    "grader.check(\"q5\")"
   ]
  },
  {
   "cell_type": "markdown",
   "metadata": {
    "deletable": false,
    "editable": false
   },
   "source": [
    "<!-- END QUESTION -->\n",
    "\n",
    "<!-- BEGIN QUESTION -->\n",
    "\n",
    "**Question 6:Write a function get_nearest_farthest that takes in a point of interest (x, y) and a list of points [(x1, y1), (x2, y2), ...] and returns the indices of the nearest and farthest points from the point of interest.** </br>\n",
    "Example: For pt = (0, 0) and points = [(1, 1), (3, 3), (-1, -1)], the output should be (0, 1)"
   ]
  },
  {
   "cell_type": "code",
   "execution_count": 6,
   "metadata": {
    "tags": []
   },
   "outputs": [
    {
     "name": "stdout",
     "output_type": "stream",
     "text": [
      "All test cases passed!\n"
     ]
    }
   ],
   "source": [
    "def get_nearest_farthest(pt, points):\n",
    "    \"\"\"\n",
    "    Returns the indices of the nearest and farthest points from a point of interest.\n",
    "\n",
    "    Args:\n",
    "        pt (tuple): The point of interest (x, y).\n",
    "        points (list): List of points [(x1, y1), (x2, y2), ...].\n",
    "\n",
    "    Returns:\n",
    "        tuple: Indices of the nearest and farthest points.\n",
    "    \"\"\"\n",
    "    distances = [( (x - pt[0])**2 + (y - pt[1])**2 ) for x, y in points]\n",
    "    \n",
    "    nearest_index = distances.index(min(distances))  # Index of minimum distance\n",
    "    farthest_index = distances.index(max(distances))  # Index of maximum distance\n",
    "    \n",
    "    return (nearest_index, farthest_index)\n",
    "\n",
    "# Test case\n",
    "pt = (0, 0)\n",
    "points = [(1, 1), (3, 3), (-1, -1)]\n",
    "assert get_nearest_farthest(pt, points) == (0, 1)  # ✅ Should pass\n",
    "\n",
    "print(\"All test cases passed!\")  # This prints only if everything works correctly.\n"
   ]
  },
  {
   "cell_type": "code",
   "execution_count": 7,
   "metadata": {
    "deletable": false,
    "editable": false
   },
   "outputs": [
    {
     "data": {
      "text/html": [
       "<p><strong><pre style='display: inline;'>q6</pre></strong> passed! 🌟</p>"
      ],
      "text/plain": [
       "q6 results: All test cases passed!"
      ]
     },
     "execution_count": 7,
     "metadata": {},
     "output_type": "execute_result"
    }
   ],
   "source": [
    "grader.check(\"q6\")"
   ]
  },
  {
   "cell_type": "markdown",
   "metadata": {
    "deletable": false,
    "editable": false
   },
   "source": [
    "<!-- END QUESTION -->\n",
    "\n",
    "<!-- BEGIN QUESTION -->\n",
    "\n",
    "**Question 7:Write a function filter_divisible to return a list of numbers between 0 and a number N that are not perfectly divisible by q.** </br>\n",
    "\n",
    "> Hint: If N is negative, use N = 20. \n",
    "\n",
    "Example: For N = 10 and q = 2, the output should be [1, 3, 5, 7, 9]"
   ]
  },
  {
   "cell_type": "code",
   "execution_count": 8,
   "metadata": {
    "tags": []
   },
   "outputs": [
    {
     "name": "stdout",
     "output_type": "stream",
     "text": [
      "All test cases passed!\n"
     ]
    }
   ],
   "source": [
    "def filter_divisible(N, q):\n",
    "    \"\"\"\n",
    "    Returns a list of numbers between 0 and N that are not divisible by q.\n",
    "\n",
    "    Args:\n",
    "        N (int): The upper limit.\n",
    "        q (int): The divisor.\n",
    "\n",
    "    Returns:\n",
    "        list: A list of non-divisible numbers.\n",
    "    \"\"\"\n",
    "    # If N is negative, set it to 20\n",
    "    if N < 0:\n",
    "        N = 20\n",
    "\n",
    "    # Generate numbers from 0 to N and filter out those divisible by q\n",
    "    return [num for num in range(N) if num % q != 0]\n",
    "\n",
    "# Test cases\n",
    "assert filter_divisible(10, 2) == [1, 3, 5, 7, 9]  # ✅ Should pass\n",
    "assert filter_divisible(-5, 3) == [1, 2, 4, 5, 7, 8, 10, 11, 13, 14, 16, 17, 19]  # ✅ N = 20\n",
    "assert filter_divisible(15, 5) == [1, 2, 3, 4, 6, 7, 8, 9, 11, 12, 13, 14]  # ✅ Should pass\n",
    "\n",
    "print(\"All test cases passed!\")  # This prints only if everything works correctly.\n"
   ]
  },
  {
   "cell_type": "code",
   "execution_count": 13,
   "metadata": {
    "deletable": false,
    "editable": false
   },
   "outputs": [
    {
     "data": {
      "text/html": [
       "<p><strong><pre style='display: inline;'>q7</pre></strong> passed! ✨</p>"
      ],
      "text/plain": [
       "q7 results: All test cases passed!"
      ]
     },
     "execution_count": 13,
     "metadata": {},
     "output_type": "execute_result"
    }
   ],
   "source": [
    "grader.check(\"q7\")"
   ]
  },
  {
   "cell_type": "markdown",
   "metadata": {
    "deletable": false,
    "editable": false
   },
   "source": [
    "<!-- END QUESTION -->\n",
    "\n",
    "<!-- BEGIN QUESTION -->\n",
    "\n",
    "**Question 8: Write a function flatten_and_unique that takes in a list of lists and outputs a sorted list of unique elements from all sublists.**"
   ]
  },
  {
   "cell_type": "code",
   "execution_count": 14,
   "metadata": {
    "tags": []
   },
   "outputs": [
    {
     "name": "stdout",
     "output_type": "stream",
     "text": [
      "All test cases passed!\n"
     ]
    }
   ],
   "source": [
    "def flatten_and_unique(list_of_lists):\n",
    "    \"\"\"\n",
    "    Flattens a list of lists and returns a sorted list of unique elements.\n",
    "\n",
    "    Args:\n",
    "        list_of_lists (list): A list of lists.\n",
    "\n",
    "    Returns:\n",
    "        list: A sorted list of unique elements.\n",
    "    \"\"\"\n",
    "    # Flatten the list using list comprehension and convert it to a set to get unique values\n",
    "    unique_elements = set(item for sublist in list_of_lists for item in sublist)\n",
    "\n",
    "    # Return the sorted list of unique elements\n",
    "    return sorted(unique_elements)\n",
    "\n",
    "# Test cases\n",
    "assert flatten_and_unique([[1, 2, 3], [3, 4, 5], [6, 1]]) == [1, 2, 3, 4, 5, 6]  # ✅ Should pass\n",
    "assert flatten_and_unique([[10, 20], [20, 30, 40], [10, 50]]) == [10, 20, 30, 40, 50]  # ✅ Should pass\n",
    "assert flatten_and_unique([[7, 8, 9], [9, 8, 7], [10, 11]]) == [7, 8, 9, 10, 11]  # ✅ Should pass\n",
    "\n",
    "print(\"All test cases passed!\")  # This prints only if everything works correctly.\n"
   ]
  },
  {
   "cell_type": "code",
   "execution_count": 15,
   "metadata": {
    "deletable": false,
    "editable": false
   },
   "outputs": [
    {
     "data": {
      "text/html": [
       "<p><strong><pre style='display: inline;'>q8</pre></strong> passed! 🍀</p>"
      ],
      "text/plain": [
       "q8 results: All test cases passed!"
      ]
     },
     "execution_count": 15,
     "metadata": {},
     "output_type": "execute_result"
    }
   ],
   "source": [
    "grader.check(\"q8\")"
   ]
  },
  {
   "cell_type": "markdown",
   "metadata": {
    "deletable": false,
    "editable": false
   },
   "source": [
    "<!-- END QUESTION -->\n",
    "\n",
    "**The Extra Mile!**\n"
   ]
  },
  {
   "cell_type": "markdown",
   "metadata": {},
   "source": [
    "Download the dataset Nigeria Food Prices (9.9M) \n",
    "\n",
    "> https://data.humdata.org/dataset/wfp-food-prices-for-nigeria\n",
    "\n",
    "\n",
    "\n"
   ]
  },
  {
   "cell_type": "markdown",
   "metadata": {
    "deletable": false,
    "editable": false
   },
   "source": [
    "<!-- BEGIN QUESTION -->\n",
    "\n",
    "**Question 9: Create a new column date_new from the date column, converting it to a datetime format.**"
   ]
  },
  {
   "cell_type": "code",
   "execution_count": 18,
   "metadata": {
    "tags": []
   },
   "outputs": [
    {
     "name": "stdout",
     "output_type": "stream",
     "text": [
      "First 5 rows of the dataset:\n",
      "         date   admin1 admin2        market  latitude  longitude  \\\n",
      "0  2002-01-15  Katsina  Jibia   Jibia (CBM)    13.080      7.240   \n",
      "1  2002-01-15  Katsina  Jibia   Jibia (CBM)    13.080      7.240   \n",
      "2  2002-01-15  Katsina  Jibia   Jibia (CBM)    13.080      7.240   \n",
      "3  2002-01-15  Katsina  Jibia   Jibia (CBM)    13.080      7.240   \n",
      "4  2002-01-15   Sokoto   Gada  Illela (CBM)    13.645      5.278   \n",
      "\n",
      "             category      commodity unit priceflag  pricetype currency  \\\n",
      "0  cereals and tubers          Maize   KG    actual  Wholesale      NGN   \n",
      "1  cereals and tubers         Millet   KG    actual  Wholesale      NGN   \n",
      "2  cereals and tubers        Sorghum   KG    actual  Wholesale      NGN   \n",
      "3     pulses and nuts  Beans (niebe)   KG    actual  Wholesale      NGN   \n",
      "4  cereals and tubers          Maize   KG    actual  Wholesale      NGN   \n",
      "\n",
      "    price  usdprice  \n",
      "0  175.92    1.5398  \n",
      "1  150.18    1.3145  \n",
      "2  155.61    1.3620  \n",
      "3  196.87    1.7231  \n",
      "4  153.35    1.3422  \n"
     ]
    }
   ],
   "source": [
    "import pandas as pd\n",
    "\n",
    "# Load the dataset\n",
    "file_path = r'C:\\Users\\Roche\\Downloads\\wfp_food_prices_nga.csv'  # Replace with the actual file path\n",
    "df = pd.read_csv(file_path,skiprows=[1])\n",
    "df = df.drop(index=2)\n",
    "df = df.reset_index(drop=True)\n",
    "\n",
    "# Display the first few rows of the dataset\n",
    "print(\"First 5 rows of the dataset:\")\n",
    "print(df.head())\n",
    "\n"
   ]
  },
  {
   "cell_type": "code",
   "execution_count": 19,
   "metadata": {
    "tags": []
   },
   "outputs": [],
   "source": [
    "import pandas as pd\n",
    "\n",
    "def create_date_new(df):\n",
    "    \"\"\"\n",
    "    Creates a new column `date_new` from the `date` column, converting it to a datetime format.\n",
    "\n",
    "    Args:\n",
    "        df (pd.DataFrame): The input dataframe.\n",
    "\n",
    "    Returns:\n",
    "        pd.DataFrame: The dataframe with the new `date_new` column.\n",
    "    \"\"\"\n",
    "    df['date_new'] = pd.to_datetime(df['date'], errors='coerce')  # Converts to datetime, handling errors\n",
    "    return df\n"
   ]
  },
  {
   "cell_type": "code",
   "execution_count": 20,
   "metadata": {
    "deletable": false,
    "editable": false
   },
   "outputs": [
    {
     "data": {
      "text/html": [
       "<p><strong><pre style='display: inline;'>q9</pre></strong> passed! 🌟</p>"
      ],
      "text/plain": [
       "q9 results: All test cases passed!"
      ]
     },
     "execution_count": 20,
     "metadata": {},
     "output_type": "execute_result"
    }
   ],
   "source": [
    "grader.check(\"q9\")"
   ]
  },
  {
   "cell_type": "markdown",
   "metadata": {
    "deletable": false,
    "editable": false
   },
   "source": [
    "<!-- END QUESTION -->\n",
    "\n",
    "<!-- BEGIN QUESTION -->\n",
    "\n",
    "**Question 10:Split the dataframe into two separate dataframes based on the category column: one for cereals and tubers and another for pulses and nuts**"
   ]
  },
  {
   "cell_type": "code",
   "execution_count": 29,
   "metadata": {
    "tags": []
   },
   "outputs": [],
   "source": [
    "import pandas as pd\n",
    "\n",
    "def split_dataframes(df):\n",
    "    \"\"\"\n",
    "    Splits the dataframe into two separate dataframes based on the `category` column.\n",
    "\n",
    "    Args:\n",
    "        df (pd.DataFrame): The input dataframe.\n",
    "\n",
    "    Returns:\n",
    "        tuple: A tuple of two dataframes: (cereals_df, pulses_df).\n",
    "    \"\"\"\n",
    "    # Ensure category column exists\n",
    "    if 'category' not in df.columns:\n",
    "        raise KeyError(\"The dataframe does not contain a 'category' column.\")\n",
    "\n",
    "    # Normalize category values (strip spaces and lowercase)\n",
    "    df['category'] = df['category'].str.strip().str.lower()\n",
    "\n",
    "    # Print unique categories to check if they match expected values\n",
    "    print(\"Unique categories in dataframe:\", df['category'].unique())\n",
    "\n",
    "    # Corrected filtering using lowercase\n",
    "    cereals_df = df[df['category'] == 'cereals and tubers'].copy()\n",
    "    pulses_df = df[df['category'] == 'pulses and nuts'].copy()\n",
    "\n",
    "    # Ensure the function always returns a valid DataFrame\n",
    "    if cereals_df.empty:\n",
    "        print(\"Warning: 'Cereals and Tubers' dataframe is empty.\")\n",
    "    if pulses_df.empty:\n",
    "        print(\"Warning: 'Pulses and Nuts' dataframe is empty.\")\n",
    "\n",
    "    return cereals_df, pulses_df  # Ensure both are always returned\n"
   ]
  },
  {
   "cell_type": "code",
   "execution_count": 30,
   "metadata": {
    "deletable": false,
    "editable": false
   },
   "outputs": [
    {
     "data": {
      "text/html": [
       "<p><strong style='color: red;'><pre style='display: inline;'>q10</pre> results:</strong></p><p><strong><pre style='display: inline;'>q10 - 1</pre> result:</strong></p><pre>    ❌ Test case failed\n",
       "    Trying:\n",
       "        (cereals_df, pulses_df) = split_dataframes(df)\n",
       "    Expecting nothing\n",
       "    **********************************************************************\n",
       "    Line 1, in q10 0\n",
       "    Failed example:\n",
       "        (cereals_df, pulses_df) = split_dataframes(df)\n",
       "    Expected nothing\n",
       "    Got:\n",
       "        Unique categories in dataframe: ['cereals and tubers' 'pulses and nuts' 'non-food' 'oil and fats'\n",
       "         'meat, fish and eggs' 'milk and dairy' 'vegetables and fruits'\n",
       "         'miscellaneous food']\n",
       "    Trying:\n",
       "        assert len(cereals_df) > 0, 'Cereals and tubers dataframe is empty'\n",
       "    Expecting nothing\n",
       "    ok\n",
       "</pre><p><strong><pre style='display: inline;'>q10 - 2</pre> result:</strong></p><pre>    ❌ Test case failed\n",
       "    Trying:\n",
       "        assert len(pulses_df) > 0, 'Pulses and nuts dataframe is empty'\n",
       "    Expecting nothing\n",
       "    **********************************************************************\n",
       "    Line 1, in q10 1\n",
       "    Failed example:\n",
       "        assert len(pulses_df) > 0, 'Pulses and nuts dataframe is empty'\n",
       "    Exception raised:\n",
       "        Traceback (most recent call last):\n",
       "          File \"c:\\Users\\Roche\\AppData\\Local\\Programs\\Python\\Python313\\Lib\\doctest.py\", line 1395, in __run\n",
       "            exec(compile(example.source, filename, \"single\",\n",
       "            ~~~~^^^^^^^^^^^^^^^^^^^^^^^^^^^^^^^^^^^^^^^^^^^^\n",
       "                         compileflags, True), test.globs)\n",
       "                         ^^^^^^^^^^^^^^^^^^^^^^^^^^^^^^^^\n",
       "          File \"<doctest q10 1[0]>\", line 1, in <module>\n",
       "            assert len(pulses_df) > 0, 'Pulses and nuts dataframe is empty'\n",
       "                       ^^^^^^^^^\n",
       "        NameError: name 'pulses_df' is not defined\n",
       "</pre>"
      ],
      "text/plain": [
       "q10 results:\n",
       "    q10 - 1 result:\n",
       "        ❌ Test case failed\n",
       "        Trying:\n",
       "            (cereals_df, pulses_df) = split_dataframes(df)\n",
       "        Expecting nothing\n",
       "        **********************************************************************\n",
       "        Line 1, in q10 0\n",
       "        Failed example:\n",
       "            (cereals_df, pulses_df) = split_dataframes(df)\n",
       "        Expected nothing\n",
       "        Got:\n",
       "            Unique categories in dataframe: ['cereals and tubers' 'pulses and nuts' 'non-food' 'oil and fats'\n",
       "             'meat, fish and eggs' 'milk and dairy' 'vegetables and fruits'\n",
       "             'miscellaneous food']\n",
       "        Trying:\n",
       "            assert len(cereals_df) > 0, 'Cereals and tubers dataframe is empty'\n",
       "        Expecting nothing\n",
       "        ok\n",
       "\n",
       "    q10 - 2 result:\n",
       "        ❌ Test case failed\n",
       "        Trying:\n",
       "            assert len(pulses_df) > 0, 'Pulses and nuts dataframe is empty'\n",
       "        Expecting nothing\n",
       "        **********************************************************************\n",
       "        Line 1, in q10 1\n",
       "        Failed example:\n",
       "            assert len(pulses_df) > 0, 'Pulses and nuts dataframe is empty'\n",
       "        Exception raised:\n",
       "            Traceback (most recent call last):\n",
       "              File \"c:\\Users\\Roche\\AppData\\Local\\Programs\\Python\\Python313\\Lib\\doctest.py\", line 1395, in __run\n",
       "                exec(compile(example.source, filename, \"single\",\n",
       "                ~~~~^^^^^^^^^^^^^^^^^^^^^^^^^^^^^^^^^^^^^^^^^^^^\n",
       "                             compileflags, True), test.globs)\n",
       "                             ^^^^^^^^^^^^^^^^^^^^^^^^^^^^^^^^\n",
       "              File \"<doctest q10 1[0]>\", line 1, in <module>\n",
       "                assert len(pulses_df) > 0, 'Pulses and nuts dataframe is empty'\n",
       "                           ^^^^^^^^^\n",
       "            NameError: name 'pulses_df' is not defined"
      ]
     },
     "execution_count": 30,
     "metadata": {},
     "output_type": "execute_result"
    }
   ],
   "source": [
    "grader.check(\"q10\")"
   ]
  },
  {
   "cell_type": "markdown",
   "metadata": {
    "deletable": false,
    "editable": false
   },
   "source": [
    "<!-- END QUESTION -->\n",
    "\n",
    "<!-- BEGIN QUESTION -->\n",
    "\n",
    "**Question 11:Calculate the mean, median, and mode of the price and usdprice columns for each category**"
   ]
  },
  {
   "cell_type": "code",
   "execution_count": 31,
   "metadata": {
    "tags": []
   },
   "outputs": [],
   "source": [
    "import pandas as pd\n",
    "\n",
    "def calculate_price_stats(df):\n",
    "    \"\"\"\n",
    "    Calculates the mean, median, and mode of the `price` and `usdprice` columns for each `category`.\n",
    "\n",
    "    Args:\n",
    "        df (pd.DataFrame): The input dataframe.\n",
    "\n",
    "    Returns:\n",
    "        tuple: A tuple of two dataframes: (price_stats, usdprice_stats).\n",
    "    \"\"\"\n",
    "    # Ensure required columns exist\n",
    "    required_columns = {'category', 'price', 'usdprice'}\n",
    "    if not required_columns.issubset(df.columns):\n",
    "        raise KeyError(f\"Missing required columns: {required_columns - set(df.columns)}\")\n",
    "    \n",
    "    # Group by category and compute statistics\n",
    "    price_stats = df.groupby('category')['price'].agg(['mean', 'median'])\n",
    "    usdprice_stats = df.groupby('category')['usdprice'].agg(['mean', 'median'])\n",
    "\n",
    "    # Compute mode separately since it may have multiple values\n",
    "    price_mode = df.groupby('category')['price'].apply(lambda x: x.mode().iloc[0] if not x.mode().empty else None)\n",
    "    usdprice_mode = df.groupby('category')['usdprice'].apply(lambda x: x.mode().iloc[0] if not x.mode().empty else None)\n",
    "\n",
    "    # Add mode to the stats DataFrames\n",
    "    price_stats['mode'] = price_mode\n",
    "    usdprice_stats['mode'] = usdprice_mode\n",
    "\n",
    "    return price_stats, usdprice_stats\n"
   ]
  },
  {
   "cell_type": "code",
   "execution_count": 32,
   "metadata": {
    "deletable": false,
    "editable": false
   },
   "outputs": [
    {
     "data": {
      "text/html": [
       "<p><strong style='color: red;'><pre style='display: inline;'>q11</pre> results:</strong></p><p><strong><pre style='display: inline;'>q11 - 1</pre> result:</strong></p><pre>    ✅ Test case passed</pre><p><strong><pre style='display: inline;'>q11 - 2</pre> result:</strong></p><pre>    ❌ Test case failed\n",
       "    Trying:\n",
       "        assert not usdprice_stats.empty, 'USD price statistics dataframe is empty'\n",
       "    Expecting nothing\n",
       "    **********************************************************************\n",
       "    Line 1, in q11 1\n",
       "    Failed example:\n",
       "        assert not usdprice_stats.empty, 'USD price statistics dataframe is empty'\n",
       "    Exception raised:\n",
       "        Traceback (most recent call last):\n",
       "          File \"c:\\Users\\Roche\\AppData\\Local\\Programs\\Python\\Python313\\Lib\\doctest.py\", line 1395, in __run\n",
       "            exec(compile(example.source, filename, \"single\",\n",
       "            ~~~~^^^^^^^^^^^^^^^^^^^^^^^^^^^^^^^^^^^^^^^^^^^^\n",
       "                         compileflags, True), test.globs)\n",
       "                         ^^^^^^^^^^^^^^^^^^^^^^^^^^^^^^^^\n",
       "          File \"<doctest q11 1[0]>\", line 1, in <module>\n",
       "            assert not usdprice_stats.empty, 'USD price statistics dataframe is empty'\n",
       "                       ^^^^^^^^^^^^^^\n",
       "        NameError: name 'usdprice_stats' is not defined\n",
       "</pre>"
      ],
      "text/plain": [
       "q11 results:\n",
       "    q11 - 1 result:\n",
       "        ✅ Test case passed\n",
       "\n",
       "    q11 - 2 result:\n",
       "        ❌ Test case failed\n",
       "        Trying:\n",
       "            assert not usdprice_stats.empty, 'USD price statistics dataframe is empty'\n",
       "        Expecting nothing\n",
       "        **********************************************************************\n",
       "        Line 1, in q11 1\n",
       "        Failed example:\n",
       "            assert not usdprice_stats.empty, 'USD price statistics dataframe is empty'\n",
       "        Exception raised:\n",
       "            Traceback (most recent call last):\n",
       "              File \"c:\\Users\\Roche\\AppData\\Local\\Programs\\Python\\Python313\\Lib\\doctest.py\", line 1395, in __run\n",
       "                exec(compile(example.source, filename, \"single\",\n",
       "                ~~~~^^^^^^^^^^^^^^^^^^^^^^^^^^^^^^^^^^^^^^^^^^^^\n",
       "                             compileflags, True), test.globs)\n",
       "                             ^^^^^^^^^^^^^^^^^^^^^^^^^^^^^^^^\n",
       "              File \"<doctest q11 1[0]>\", line 1, in <module>\n",
       "                assert not usdprice_stats.empty, 'USD price statistics dataframe is empty'\n",
       "                           ^^^^^^^^^^^^^^\n",
       "            NameError: name 'usdprice_stats' is not defined"
      ]
     },
     "execution_count": 32,
     "metadata": {},
     "output_type": "execute_result"
    }
   ],
   "source": [
    "grader.check(\"q11\")"
   ]
  },
  {
   "cell_type": "markdown",
   "metadata": {
    "deletable": false,
    "editable": false
   },
   "source": [
    "<!-- END QUESTION -->\n",
    "\n",
    "<!-- BEGIN QUESTION -->\n",
    "\n",
    "**Question 12:Merge the two dataframes (from Question 11) back into one dataframe and save it as `merged_data.csv`.**"
   ]
  },
  {
   "cell_type": "code",
   "execution_count": null,
   "metadata": {
    "tags": []
   },
   "outputs": [],
   "source": [
    "def merge_dataframes(cereals_df, pulses_df):\n",
    "    \"\"\"\n",
    "    Merges the two dataframes back into one dataframe and saves it as `merged_data.csv`.\n",
    "\n",
    "    Args:\n",
    "        cereals_df (pd.DataFrame): The cereals and tubers dataframe.\n",
    "        pulses_df (pd.DataFrame): The pulses and nuts dataframe.\n",
    "\n",
    "    Returns:\n",
    "        pd.DataFrame: The merged dataframe.\n",
    "    \"\"\"\n"
   ]
  },
  {
   "cell_type": "code",
   "execution_count": null,
   "metadata": {
    "deletable": false,
    "editable": false
   },
   "outputs": [],
   "source": [
    "grader.check(\"q12\")"
   ]
  },
  {
   "cell_type": "markdown",
   "metadata": {
    "deletable": false,
    "editable": false
   },
   "source": [
    "<!-- END QUESTION -->\n",
    "\n",
    "<!-- BEGIN QUESTION -->\n",
    "\n",
    "**Question 13:Open the `merged_data.csv` file and select only the `date_new`, `market`, `commodity`, `price`, and `usdprice` columns**"
   ]
  },
  {
   "cell_type": "code",
   "execution_count": null,
   "metadata": {
    "tags": []
   },
   "outputs": [],
   "source": [
    "def select_columns():\n",
    "    \"\"\"\n",
    "    Opens the `merged_data.csv` file and selects only the `date_new`, `market`, `commodity`, `price`, and `usdprice` columns.\n",
    "\n",
    "    Returns:\n",
    "        pd.DataFrame: The dataframe with selected columns.\n",
    "    \"\"\""
   ]
  },
  {
   "cell_type": "code",
   "execution_count": null,
   "metadata": {
    "deletable": false,
    "editable": false
   },
   "outputs": [],
   "source": [
    "grader.check(\"q13\")"
   ]
  },
  {
   "cell_type": "markdown",
   "metadata": {
    "deletable": false,
    "editable": false
   },
   "source": [
    "<!-- END QUESTION -->\n",
    "\n",
    "<!-- BEGIN QUESTION -->\n",
    "\n",
    "**Question 14:Group the data by `admin1` (state) and calculate the average `price` and `usdprice` for each state**"
   ]
  },
  {
   "cell_type": "code",
   "execution_count": null,
   "metadata": {
    "tags": []
   },
   "outputs": [],
   "source": [
    "def calculate_state_avg_prices(df):\n",
    "    \"\"\"\n",
    "    Groups the data by `admin1` (state) and calculates the average `price` and `usdprice` for each state.\n",
    "\n",
    "    Args:\n",
    "        df (pd.DataFrame): The input dataframe.\n",
    "\n",
    "    Returns:\n",
    "        pd.DataFrame: The dataframe with average prices by state.\n",
    "    \"\"\""
   ]
  },
  {
   "cell_type": "code",
   "execution_count": null,
   "metadata": {
    "deletable": false,
    "editable": false
   },
   "outputs": [],
   "source": [
    "grader.check(\"q14\")"
   ]
  },
  {
   "cell_type": "markdown",
   "metadata": {
    "deletable": false,
    "editable": false
   },
   "source": [
    "<!-- END QUESTION -->\n",
    "\n",
    "<!-- BEGIN QUESTION -->\n",
    "\n",
    "**Question 15:Identify the top 5 markets with the highest average `usdprice` for `Rice (imported)`.**"
   ]
  },
  {
   "cell_type": "code",
   "execution_count": null,
   "metadata": {
    "tags": []
   },
   "outputs": [],
   "source": [
    "def identify_top_markets(df):\n",
    "    \"\"\"\n",
    "    Identifies the top 5 markets with the highest average `usdprice` for `Rice (imported)`.\n",
    "\n",
    "    Args:\n",
    "        df (pd.DataFrame): The input dataframe.\n",
    "\n",
    "    Returns:\n",
    "        pd.Series: A series with the top 5 markets and their average `usdprice`.\n",
    "    \"\"\" "
   ]
  },
  {
   "cell_type": "code",
   "execution_count": null,
   "metadata": {
    "deletable": false,
    "editable": false
   },
   "outputs": [],
   "source": [
    "grader.check(\"q15\")"
   ]
  },
  {
   "cell_type": "markdown",
   "metadata": {
    "deletable": false,
    "editable": false
   },
   "source": [
    "<!-- END QUESTION -->\n",
    "\n"
   ]
  },
  {
   "cell_type": "markdown",
   "metadata": {
    "deletable": false,
    "editable": false
   },
   "source": [
    "---\n",
    "\n",
    "To double-check your work, the cell below will rerun all of the autograder tests."
   ]
  },
  {
   "cell_type": "code",
   "execution_count": null,
   "metadata": {
    "deletable": false,
    "editable": false
   },
   "outputs": [],
   "source": [
    "grader.check_all()"
   ]
  },
  {
   "cell_type": "markdown",
   "metadata": {
    "deletable": false,
    "editable": false
   },
   "source": [
    "## Submission\n",
    "\n",
    "Make sure you have run all cells in your notebook in order before running the cell below, so that all images/graphs appear in the output. The cell below will generate a zip file for you to submit. **Please save before exporting!**\n",
    "\n",
    "Complete each function according to the provided specifications. Make sure all tests pass."
   ]
  },
  {
   "cell_type": "code",
   "execution_count": null,
   "metadata": {
    "deletable": false,
    "editable": false
   },
   "outputs": [],
   "source": [
    "# Save your notebook first, then run this cell to export your submission.\n",
    "grader.export(run_tests=True)"
   ]
  },
  {
   "cell_type": "markdown",
   "metadata": {},
   "source": [
    " "
   ]
  }
 ],
 "metadata": {
  "kernelspec": {
   "display_name": "Python 3",
   "language": "python",
   "name": "python3"
  },
  "language_info": {
   "codemirror_mode": {
    "name": "ipython",
    "version": 3
   },
   "file_extension": ".py",
   "mimetype": "text/x-python",
   "name": "python",
   "nbconvert_exporter": "python",
   "pygments_lexer": "ipython3",
   "version": "3.13.2"
  },
  "otter": {
   "OK_FORMAT": true,
   "export_pdf_failure_message": "A PDF of your notebook could not be generated. Please acknowledge to continue submission export.",
   "require_no_pdf_confirmation": true,
   "tests": {
    "q1": {
     "name": "q1",
     "points": 1,
     "suites": [
      {
       "cases": [
        {
         "code": ">>> assert even_odd_numbers(10) == ([2, 4, 6, 8, 10], [1, 3, 5, 7, 9])\n",
         "hidden": false,
         "locked": false
        },
        {
         "code": ">>> assert even_odd_numbers(5) == ([2, 4], [1, 3, 5])\n",
         "hidden": false,
         "locked": false
        }
       ],
       "scored": true,
       "setup": "",
       "teardown": "",
       "type": "doctest"
      }
     ]
    },
    "q10": {
     "name": "q10",
     "points": 1,
     "suites": [
      {
       "cases": [
        {
         "code": ">>> (cereals_df, pulses_df) = split_dataframes(df)\n>>> assert len(cereals_df) > 0, 'Cereals and tubers dataframe is empty'\n",
         "hidden": false,
         "locked": false
        },
        {
         "code": ">>> assert len(pulses_df) > 0, 'Pulses and nuts dataframe is empty'\n",
         "hidden": false,
         "locked": false
        }
       ],
       "scored": true,
       "setup": "",
       "teardown": "",
       "type": "doctest"
      }
     ]
    },
    "q11": {
     "name": "q11",
     "points": 1,
     "suites": [
      {
       "cases": [
        {
         "code": ">>> (price_stats, usdprice_stats) = calculate_price_stats(df)\n>>> assert not price_stats.empty, 'Price statistics dataframe is empty'\n",
         "hidden": false,
         "locked": false
        },
        {
         "code": ">>> assert not usdprice_stats.empty, 'USD price statistics dataframe is empty'\n",
         "hidden": false,
         "locked": false
        }
       ],
       "scored": true,
       "setup": "",
       "teardown": "",
       "type": "doctest"
      }
     ]
    },
    "q12": {
     "name": "q12",
     "points": 1,
     "suites": [
      {
       "cases": [
        {
         "code": ">>> merged_df = merge_dataframes(cereals_df, pulses_df)\n>>> assert not merged_df.empty, 'Merged dataframe is empty'\n",
         "hidden": false,
         "locked": false
        },
        {
         "code": ">>> assert len(merged_df) == len(cereals_df) + len(pulses_df), 'Merged dataframe has incorrect number of rows'\n",
         "hidden": false,
         "locked": false
        }
       ],
       "scored": true,
       "setup": "",
       "teardown": "",
       "type": "doctest"
      }
     ]
    },
    "q13": {
     "name": "q13",
     "points": 1,
     "suites": [
      {
       "cases": [
        {
         "code": ">>> selected_columns = select_columns()\n>>> assert not selected_columns.empty, 'Selected columns dataframe is empty'\n",
         "hidden": false,
         "locked": false
        },
        {
         "code": ">>> assert list(selected_columns.columns) == ['date_new', 'market', 'commodity', 'price', 'usdprice'], 'Incorrect columns selected'\n",
         "hidden": false,
         "locked": false
        }
       ],
       "scored": true,
       "setup": "",
       "teardown": "",
       "type": "doctest"
      }
     ]
    },
    "q14": {
     "name": "q14",
     "points": 1,
     "suites": [
      {
       "cases": [
        {
         "code": ">>> state_avg_prices = calculate_state_avg_prices(df)\n>>> assert not state_avg_prices.empty, 'State average prices dataframe is empty'\n",
         "hidden": false,
         "locked": false
        },
        {
         "code": ">>> assert 'price' in state_avg_prices.columns, 'Price column not found in state average prices'\n",
         "hidden": false,
         "locked": false
        }
       ],
       "scored": true,
       "setup": "",
       "teardown": "",
       "type": "doctest"
      }
     ]
    },
    "q15": {
     "name": "q15",
     "points": 1,
     "suites": [
      {
       "cases": [
        {
         "code": ">>> top_markets = identify_top_markets(df)\n>>> assert not top_markets.empty, 'Top markets dataframe is empty'\n",
         "hidden": false,
         "locked": false
        },
        {
         "code": ">>> assert len(top_markets) == 5, 'Incorrect number of top markets'\n",
         "hidden": false,
         "locked": false
        }
       ],
       "scored": true,
       "setup": "",
       "teardown": "",
       "type": "doctest"
      }
     ]
    },
    "q2": {
     "name": "q2",
     "points": 1,
     "suites": [
      {
       "cases": [
        {
         "code": ">>> assert word_frequency('Data science is fun. Data science is useful.') == {'data': 2, 'science': 2, 'is': 2, 'fun': 1, 'useful': 1}\n",
         "hidden": false,
         "locked": false
        },
        {
         "code": ">>> assert word_frequency('Hello hello world') == {'hello': 2, 'world': 1}\n",
         "hidden": false,
         "locked": false
        }
       ],
       "scored": true,
       "setup": "",
       "teardown": "",
       "type": "doctest"
      }
     ]
    },
    "q3": {
     "name": "q3",
     "points": 1,
     "suites": [
      {
       "cases": [
        {
         "code": ">>> assert extract_and_sort_values({'a': 3, 'b': 1, 'c': 2}) == [3, 2, 1]\n",
         "hidden": false,
         "locked": false
        },
        {
         "code": ">>> assert extract_and_sort_values({'x': 10, 'y': 5, 'z': 20}) == [20, 10, 5]\n",
         "hidden": false,
         "locked": false
        }
       ],
       "scored": true,
       "setup": "",
       "teardown": "",
       "type": "doctest"
      }
     ]
    },
    "q4": {
     "name": "q4",
     "points": 1,
     "suites": [
      {
       "cases": [
        {
         "code": ">>> assert merge_lists_to_dict(['a', 'b', 'c'], [3, 2, 1]) == {'a': 3, 'b': 2, 'c': 1}\n",
         "hidden": false,
         "locked": false
        },
        {
         "code": ">>> assert merge_lists_to_dict(['x', 'y'], [10, 20]) == {'x': 10, 'y': 20}\n",
         "hidden": false,
         "locked": false
        }
       ],
       "scored": true,
       "setup": "",
       "teardown": "",
       "type": "doctest"
      }
     ]
    },
    "q5": {
     "name": "q5",
     "points": 1,
     "suites": [
      {
       "cases": [
        {
         "code": ">>> assert least_common_multiple(4, 6) == 12\n",
         "hidden": false,
         "locked": false
        },
        {
         "code": ">>> assert least_common_multiple(5, 10) == 10\n",
         "hidden": false,
         "locked": false
        }
       ],
       "scored": true,
       "setup": "",
       "teardown": "",
       "type": "doctest"
      }
     ]
    },
    "q6": {
     "name": "q6",
     "points": 1,
     "suites": [
      {
       "cases": [
        {
         "code": ">>> assert get_nearest_farthest((0, 0), [(1, 1), (3, 3), (-1, -1)]) == (0, 1)\n",
         "hidden": false,
         "locked": false
        },
        {
         "code": ">>> assert get_nearest_farthest((0, 0), [(2, 2), (1, 1), (3, 3)]) == (1, 2)\n",
         "hidden": false,
         "locked": false
        }
       ],
       "scored": true,
       "setup": "",
       "teardown": "",
       "type": "doctest"
      }
     ]
    },
    "q7": {
     "name": "q7",
     "points": 1,
     "suites": [
      {
       "cases": [
        {
         "code": ">>> assert filter_divisible(10, 2) == [1, 3, 5, 7, 9]\n",
         "hidden": false,
         "locked": false
        },
        {
         "code": ">>> assert filter_divisible(15, 3) == [1, 2, 4, 5, 7, 8, 10, 11, 13, 14]\n",
         "hidden": false,
         "locked": false
        }
       ],
       "scored": true,
       "setup": "",
       "teardown": "",
       "type": "doctest"
      }
     ]
    },
    "q8": {
     "name": "q8",
     "points": 1,
     "suites": [
      {
       "cases": [
        {
         "code": ">>> assert flatten_and_unique([[2, 13, 44], [6, 7, 2]]) == [2, 6, 7, 13, 44]\n",
         "hidden": false,
         "locked": false
        },
        {
         "code": ">>> assert flatten_and_unique([[1, 2, 3], [3, 4, 5]]) == [1, 2, 3, 4, 5]\n",
         "hidden": false,
         "locked": false
        }
       ],
       "scored": true,
       "setup": "",
       "teardown": "",
       "type": "doctest"
      }
     ]
    },
    "q9": {
     "name": "q9",
     "points": 1,
     "suites": [
      {
       "cases": [
        {
         "code": ">>> df = create_date_new(df)\n>>> assert 'date_new' in df.columns, \"Column 'date_new' not found in the dataframe\"\n",
         "hidden": false,
         "locked": false
        },
        {
         "code": ">>> assert df['date_new'].dtype == 'datetime64[ns]', \"Column 'date_new' is not in datetime format\"\n",
         "hidden": false,
         "locked": false
        }
       ],
       "scored": true,
       "setup": "",
       "teardown": "",
       "type": "doctest"
      }
     ]
    }
   }
  }
 },
 "nbformat": 4,
 "nbformat_minor": 4
}
